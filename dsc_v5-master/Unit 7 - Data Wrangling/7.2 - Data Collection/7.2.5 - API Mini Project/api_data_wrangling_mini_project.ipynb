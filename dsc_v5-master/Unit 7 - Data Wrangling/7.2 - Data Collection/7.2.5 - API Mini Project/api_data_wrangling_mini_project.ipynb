{
 "cells": [
  {
   "cell_type": "markdown",
   "metadata": {},
   "source": [
    "This exercise will require you to pull some data from https://data.nasdaq.com/ (formerly Quandl API)."
   ]
  },
  {
   "cell_type": "markdown",
   "metadata": {},
   "source": [
    "As a first step, you will need to register a free account on the https://data.nasdaq.com/ website."
   ]
  },
  {
   "cell_type": "markdown",
   "metadata": {},
   "source": [
    "After you register, you will be provided with a unique API key, that you should store:\n",
    "\n",
    "*Note*: Use a `.env` file and put your key in there and `python-dotenv` to access it in this notebook. \n",
    "\n",
    "The code below uses a key that was used when generating this project but has since been deleted. Never submit your keys to source control. There is a `.env-example` file in this repository to illusrtate what you need. Copy that to a file called `.env` and use your own api key in that `.env` file. Make sure you also have a `.gitignore` file with a line for `.env` added to it. \n",
    "\n",
    "The standard Python gitignore is [here](https://github.com/github/gitignore/blob/master/Python.gitignore) you can just copy that. "
   ]
  },
  {
   "cell_type": "code",
   "execution_count": 24,
   "metadata": {},
   "outputs": [],
   "source": [
    "# get api key from your .env file\n",
    "import os\n",
    "import dotenv\n",
    "from dotenv import load_dotenv\n",
    "\n",
    "load_dotenv()\n",
    "API_KEY = os.getenv('NASDAQ_API_KEY')\n",
    "\n"
   ]
  },
  {
   "cell_type": "markdown",
   "metadata": {},
   "source": [
    "Nasdaq Data has a large number of data sources, but, unfortunately, most of them require a Premium subscription. Still, there are also a good number of free datasets."
   ]
  },
  {
   "cell_type": "markdown",
   "metadata": {},
   "source": [
    "For this mini project, we will focus on equities data from the Frankfurt Stock Exhange (FSE), which is available for free. We'll try and analyze the stock prices of a company called Carl Zeiss Meditec, which manufactures tools for eye examinations, as well as medical lasers for laser eye surgery: https://www.zeiss.com/meditec/int/home.html. The company is listed under the stock ticker AFX_X."
   ]
  },
  {
   "cell_type": "markdown",
   "metadata": {},
   "source": [
    "You can find the detailed Nasdaq Data API instructions here: https://docs.data.nasdaq.com/docs/in-depth-usage"
   ]
  },
  {
   "cell_type": "markdown",
   "metadata": {},
   "source": [
    "While there is a dedicated Python package for connecting to the Nasdaq API, we would prefer that you use the *requests* package, which can be easily downloaded using *pip* or *conda*. You can find the documentation for the package here: http://docs.python-requests.org/en/master/ "
   ]
  },
  {
   "cell_type": "markdown",
   "metadata": {},
   "source": [
    "Finally, apart from the *requests* package, you are encouraged to not use any third party Python packages, such as *pandas*, and instead focus on what's available in the Python Standard Library (the *collections* module might come in handy: https://pymotw.com/3/collections/).\n",
    "Also, since you won't have access to DataFrames, you are encouraged to us Python's native data structures - preferably dictionaries, though some questions can also be answered using lists.\n",
    "You can read more on these data structures here: https://docs.python.org/3/tutorial/datastructures.html"
   ]
  },
  {
   "cell_type": "markdown",
   "metadata": {},
   "source": [
    "Keep in mind that the JSON responses you will be getting from the API map almost one-to-one to Python's dictionaries. Unfortunately, they can be very nested, so make sure you read up on indexing dictionaries in the documentation provided above."
   ]
  },
  {
   "cell_type": "code",
   "execution_count": 7,
   "metadata": {},
   "outputs": [],
   "source": [
    "# First, import the relevant modules\n",
    "import requests"
   ]
  },
  {
   "cell_type": "markdown",
   "metadata": {},
   "source": [
    "Note: API's can change a bit with each version, for this exercise it is reccomended to use the nasdaq api at `https://data.nasdaq.com/api/v3/`. This is the same api as what used to be quandl so `https://www.quandl.com/api/v3/` should work too.\n",
    "\n",
    "Hint: We are looking for the `AFX_X` data on the `datasets/FSE/` dataset."
   ]
  },
  {
   "cell_type": "code",
   "execution_count": 14,
   "metadata": {},
   "outputs": [],
   "source": [
    "# Now, call the Nasdaq API and pull out a small sample of the data (only one day) to get a glimpse\n",
    "# into the JSON structure that will be returned\n",
    "#params = dict(key=API_KEY, text='datasets/FSE/AFX_X')\n",
    "res = requests.get(f'https://data.nasdaq.com/api/v3/datasets/FSE/AFX_X.json?key={API_KEY}')\n",
    "#res.status_code\n",
    "\n",
    "#r= requests.get(’https://www.quandl.com/data/FSE/AFX_X.json?start_date=2019-05-08&end_date=2019-05-07&api_key=<My_Key>’)\n",
    "#res=requests.get('https://data.nasdaq.com/api/v3/datasets/FSE/AFX_X.json/?start_date=2017-01-01&end_date=2017-12-31&key=n_oYCy48UY7fbzEKFA4y')\n",
    "json = res.json()\n",
    "#print(json)\n",
    "#print(json['dataset']['column_names'])\n",
    "#print(json['dataset']['data'])"
   ]
  },
  {
   "cell_type": "code",
   "execution_count": 12,
   "metadata": {},
   "outputs": [],
   "source": [
    "# Inspect the JSON structure of the object you created, and take note of how nested it is,\n",
    "# as well as the overall structure"
   ]
  },
  {
   "cell_type": "markdown",
   "metadata": {},
   "source": [
    "These are your tasks for this mini project:\n",
    "\n",
    "1. Collect data from the Franfurt Stock Exchange, for the ticker AFX_X, for the whole year 2017 (keep in mind that the date format is YYYY-MM-DD).\n",
    "2. Convert the returned JSON object into a Python dictionary.\n",
    "3. Calculate what the highest and lowest opening prices were for the stock in this period.\n",
    "4. What was the largest change in any one day (based on High and Low price)?\n",
    "5. What was the largest change between any two days (based on Closing Price)?\n",
    "6. What was the average daily trading volume during this year?\n",
    "7. (Optional) What was the median trading volume during this year. (Note: you may need to implement your own function for calculating the median.)"
   ]
  },
  {
   "cell_type": "code",
   "execution_count": 15,
   "metadata": {},
   "outputs": [
    {
     "name": "stdout",
     "output_type": "stream",
     "text": [
      "<class 'dict'>\n",
      "2020-12-01\n",
      "['Date', 'Open', 'High', 'Low', 'Close', 'Change', 'Traded Volume', 'Turnover', 'Last Price of the Day', 'Daily Traded Units', 'Daily Turnover']\n",
      "(0, 'Date')\n",
      "(1, 'Open')\n",
      "(2, 'High')\n",
      "(3, 'Low')\n",
      "(4, 'Close')\n",
      "(5, 'Change')\n",
      "(6, 'Traded Volume')\n",
      "(7, 'Turnover')\n",
      "(8, 'Last Price of the Day')\n",
      "(9, 'Daily Traded Units')\n",
      "(10, 'Daily Turnover')\n"
     ]
    }
   ],
   "source": [
    "AFX_X_data=json['dataset']['data']\n",
    "\n",
    "arg=AFX_X_data[0][0]\n",
    "\n",
    "print(type(json))\n",
    "\n",
    "j_set=json['dataset']['end_date']\n",
    "if '2' in j_set:\n",
    "    print(j_set)\n",
    "\n",
    "print(json['dataset']['column_names'])\n",
    "columns=json['dataset']['column_names']\n",
    "\n",
    "\n",
    "for i in enumerate(columns):\n",
    "    print(i)\n",
    "   "
   ]
  },
  {
   "cell_type": "code",
   "execution_count": 16,
   "metadata": {},
   "outputs": [
    {
     "name": "stdout",
     "output_type": "stream",
     "text": [
      "[['2017-12-29', 51.76, 51.94, 51.45, 51.76, None, 34640.0, 1792304.0, None, None, None], ['2017-12-28', 51.65, 51.82, 51.43, 51.6, None, 40660.0, 2099024.0, None, None, None]]\n"
     ]
    }
   ],
   "source": [
    "date_list=[]\n",
    "\n",
    "for a in AFX_X_data:\n",
    "    list_of_entries=a\n",
    "    date_list.append(list_of_entries[0])\n",
    "#print(date_list)\n",
    "type(date_list)\n",
    "\n",
    "data_2017=[]\n",
    "for list_e in  AFX_X_data:\n",
    "        if \"2017\" in list_e[0]:\n",
    "            data_2017.append(list_e)\n",
    "print(data_2017[:2])\n",
    "\n"
   ]
  },
  {
   "cell_type": "code",
   "execution_count": 17,
   "metadata": {},
   "outputs": [
    {
     "name": "stdout",
     "output_type": "stream",
     "text": [
      "The lowest opening price in 2017 was 34.0\n",
      "The highest opening price in 2017 was 53.11\n"
     ]
    }
   ],
   "source": [
    "#Calculate what the highest and lowest opening prices were for the stock in this period.\n",
    "\n",
    "highest_num=None\n",
    "lowest_num=None\n",
    "\n",
    "for list_el in data_2017:\n",
    "    if list_el[1] is not None:\n",
    "        if highest_num == None or list_el[1]> highest_num:\n",
    "            highest_num=list_el[1]\n",
    "        elif lowest_num == None or list_el[1]<lowest_num:\n",
    "            lowest_num=list_el[1]\n",
    "                     \n",
    "print(\"The lowest opening price in 2017 was \"+str( lowest_num))\n",
    "print(\"The highest opening price in 2017 was \"+str(highest_num))"
   ]
  },
  {
   "cell_type": "code",
   "execution_count": 18,
   "metadata": {},
   "outputs": [
    {
     "name": "stdout",
     "output_type": "stream",
     "text": [
      "The highest change in a day in 2017 was 2.81\n"
     ]
    }
   ],
   "source": [
    "#What was the largest change in any one day (based on High and Low price)?\n",
    "\n",
    "highest_change=None\n",
    "\n",
    "for list_el in data_2017:\n",
    "    if list_el[2] is not None and list_el[3] :\n",
    "        change=list_el[2]-list_el[3] \n",
    "        if highest_change == None or change > highest_change:\n",
    "            highest_change=change\n",
    "print(\"The highest change in a day in 2017 was \"+ str('{0:.2f}'.format(highest_change)))"
   ]
  },
  {
   "cell_type": "code",
   "execution_count": 19,
   "metadata": {},
   "outputs": [
    {
     "name": "stdout",
     "output_type": "stream",
     "text": [
      "The largest change between any two days based on the closing price was 2.56\n"
     ]
    }
   ],
   "source": [
    "#What was the largest change between any two days (based on Closing Price)?\n",
    "close_p=[]\n",
    "for list_el in data_2017:\n",
    "    if list_el[4] is not None:\n",
    "        closing= list_el[4]\n",
    "        close_p.append(closing)\n",
    "#print(close_p) \n",
    "\n",
    "closing_change=0\n",
    "\n",
    "for i in range(len(close_p)-1):\n",
    "    change_p=abs(close_p[i]- close_p[i+1])\n",
    "    #print(change_p)\n",
    "    if change_p > closing_change:\n",
    "        closing_change=change_p\n",
    "        \n",
    "        \n",
    "print(\"The largest change between any two days based on the closing price was \" + str('{0:.2f}'.format(closing_change)))\n",
    "    #print (close_p[i])\n",
    "    \n",
    "  "
   ]
  },
  {
   "cell_type": "code",
   "execution_count": 22,
   "metadata": {},
   "outputs": [
    {
     "name": "stdout",
     "output_type": "stream",
     "text": [
      "The average daily trading volume during 2017 was 89124.34\n"
     ]
    }
   ],
   "source": [
    "#What was the average daily trading volume during this year?\n",
    "trading_sum=0\n",
    "trading_count=0\n",
    "\n",
    "for list_el in data_2017:\n",
    "    if list_el[6] is not None:\n",
    "        trading_v=list_el[6]\n",
    "        trading_sum+=trading_v\n",
    "        trading_count+=1\n",
    "\n",
    "mean=trading_sum/trading_count\n",
    "\n",
    "print(\"The average daily trading volume during 2017 was \"+str('{0:.2f}'.format(mean)))\n",
    "#print(trading_count)"
   ]
  },
  {
   "cell_type": "code",
   "execution_count": 23,
   "metadata": {},
   "outputs": [
    {
     "name": "stdout",
     "output_type": "stream",
     "text": [
      "The median trading volume during 2017 was 76600.0\n"
     ]
    }
   ],
   "source": [
    "#What was the median trading volume during this year?\n",
    "trading_list=[]\n",
    "\n",
    "for list_el in data_2017:\n",
    "    if list_el[6] is not None:\n",
    "        trading_v=list_el[6]\n",
    "        trading_list.append(trading_v)\n",
    "\n",
    "trading_ordered=sorted(trading_list)      \n",
    "i=int((trading_count + 1) / 2)\n",
    "median=trading_ordered[i]  \n",
    "\n",
    "print(\"The median trading volume during 2017 was \"+str(median))"
   ]
  },
  {
   "cell_type": "code",
   "execution_count": null,
   "metadata": {},
   "outputs": [],
   "source": [
    "\n",
    "#dict_all_p={}\n",
    "#prices=[]\n",
    "\n",
    "#for list_el in data_2017:\n",
    "    #if list_el[4] is not None:\n",
    "     #   closing= list_el[4]\n",
    "      #  dict_price={}\n",
    "       # dict_price[\"closing\"]=closing \n",
    "       # price= dict_price[\"closing\"]\n",
    "    #    prices.append(dict_price)\n",
    "     #   dict_all_p[\"closing_col\"]=prices\n",
    "#print(dict_all_p)\n",
    "        \n",
    "#print(dict_prices)\n",
    "\n",
    "#for i in enumerate(prices)-1:\n",
    "  #  prices[i]= "
   ]
  }
 ],
 "metadata": {
  "interpreter": {
   "hash": "7635eb1b9d0fe97add78a7368b6b431c09bb8ad5c42e437d64abdd99821c31ae"
  },
  "kernelspec": {
   "display_name": "Python 3",
   "language": "python",
   "name": "python3"
  },
  "language_info": {
   "codemirror_mode": {
    "name": "ipython",
    "version": 3
   },
   "file_extension": ".py",
   "mimetype": "text/x-python",
   "name": "python",
   "nbconvert_exporter": "python",
   "pygments_lexer": "ipython3",
   "version": "3.8.8"
  }
 },
 "nbformat": 4,
 "nbformat_minor": 4
}
