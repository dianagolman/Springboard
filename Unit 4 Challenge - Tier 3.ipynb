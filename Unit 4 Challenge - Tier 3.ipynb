{
 "cells": [
  {
   "cell_type": "markdown",
   "metadata": {
    "colab_type": "text",
    "id": "Tia3MP1SJpgj"
   },
   "source": [
    "# Springboard Data Science Career Track Unit 4 Challenge - Tier 3 Complete\n",
    "\n",
    "## Objectives\n",
    "Hey! Great job getting through those challenging DataCamp courses. You're learning a lot in a short span of time. \n",
    "\n",
    "In this notebook, you're going to apply the skills you've been learning, bridging the gap between the controlled environment of DataCamp and the *slightly* messier work that data scientists do with actual datasets!\n",
    "\n",
    "Here’s the mystery we’re going to solve: ***which boroughs of London have seen the greatest increase in housing prices, on average, over the last two decades?***\n",
    "\n",
    "\n",
    "A borough is just a fancy word for district. You may be familiar with the five boroughs of New York… well, there are 32 boroughs within Greater London [(here's some info for the curious)](https://en.wikipedia.org/wiki/London_boroughs). Some of them are more desirable areas to live in, and the data will reflect that with a greater rise in housing prices.\n",
    "\n",
    "***This is the Tier 3 notebook, which means it's not filled in at all: we'll just give you the skeleton of a project, the brief and the data. It's up to you to play around with it and see what you can find out! Good luck! If you struggle, feel free to look at easier tiers for help; but try to dip in and out of them, as the more independent work you do, the better it is for your learning!***\n",
    "\n",
    "This challenge will make use of only what you learned in the following DataCamp courses: \n",
    "- Prework courses (Introduction to Python for Data Science, Intermediate Python for Data Science)\n",
    "- Data Types for Data Science\n",
    "- Python Data Science Toolbox (Part One) \n",
    "- pandas Foundations\n",
    "- Manipulating DataFrames with pandas\n",
    "- Merging DataFrames with pandas\n",
    "\n",
    "Of the tools, techniques and concepts in the above DataCamp courses, this challenge should require the application of the following: \n",
    "- **pandas**\n",
    "    - **data ingestion and inspection** (pandas Foundations, Module One) \n",
    "    - **exploratory data analysis** (pandas Foundations, Module Two)\n",
    "    - **tidying and cleaning** (Manipulating DataFrames with pandas, Module Three) \n",
    "    - **transforming DataFrames** (Manipulating DataFrames with pandas, Module One)\n",
    "    - **subsetting DataFrames with lists** (Manipulating DataFrames with pandas, Module One) \n",
    "    - **filtering DataFrames** (Manipulating DataFrames with pandas, Module One) \n",
    "    - **grouping data** (Manipulating DataFrames with pandas, Module Four) \n",
    "    - **melting data** (Manipulating DataFrames with pandas, Module Three) \n",
    "    - **advanced indexing** (Manipulating DataFrames with pandas, Module Four) \n",
    "- **matplotlib** (Intermediate Python for Data Science, Module One)\n",
    "- **fundamental data types** (Data Types for Data Science, Module One) \n",
    "- **dictionaries** (Intermediate Python for Data Science, Module Two)\n",
    "- **handling dates and times** (Data Types for Data Science, Module Four)\n",
    "- **function definition** (Python Data Science Toolbox - Part One, Module One)\n",
    "- **default arguments, variable length, and scope** (Python Data Science Toolbox - Part One, Module Two) \n",
    "- **lambda functions and error handling** (Python Data Science Toolbox - Part One, Module Four) "
   ]
  },
  {
   "cell_type": "markdown",
   "metadata": {
    "colab_type": "text",
    "id": "Ipgd2nV8Jpgl"
   },
   "source": [
    "## The Data Science Pipeline\n",
    "\n",
    "This is Tier Three, so we'll get you started. But after that, it's all in your hands! When you feel done with your investigations, look back over what you've accomplished, and prepare a quick presentation of your findings for the next mentor meeting. \n",
    "\n",
    "Data Science is magical. In this case study, you'll get to apply some complex machine learning algorithms. But as  [David Spiegelhalter](https://www.youtube.com/watch?v=oUs1uvsz0Ok) reminds us, there is no substitute for simply **taking a really, really good look at the data.** Sometimes, this is all we need to answer our question.\n",
    "\n",
    "Data Science projects generally adhere to the four stages of Data Science Pipeline:\n",
    "1. Sourcing and loading \n",
    "2. Cleaning, transforming, and visualizing \n",
    "3. Modeling \n",
    "4. Evaluating and concluding \n"
   ]
  },
  {
   "cell_type": "markdown",
   "metadata": {
    "colab_type": "text",
    "id": "zswDqbefJpgm"
   },
   "source": [
    "### 1. Sourcing and Loading \n",
    "\n",
    "Any Data Science project kicks off by importing  ***pandas***. The documentation of this wonderful library can be found [here](https://pandas.pydata.org/). As you've seen, pandas is conveniently connected to the [Numpy](http://www.numpy.org/) and [Matplotlib](https://matplotlib.org/) libraries. \n",
    "\n",
    "***Hint:*** This part of the data science pipeline will test those skills you acquired in the pandas Foundations course, Module One. "
   ]
  },
  {
   "cell_type": "markdown",
   "metadata": {
    "colab_type": "text",
    "id": "aEau5nEvJpgm"
   },
   "source": [
    "#### 1.1. Importing Libraries"
   ]
  },
  {
   "cell_type": "code",
   "execution_count": 371,
   "metadata": {
    "colab": {},
    "colab_type": "code",
    "id": "7Bt_Q_oPJpgn"
   },
   "outputs": [],
   "source": [
    "# Let's import the pandas, numpy libraries as pd, and np respectively. \n",
    "import pandas as pd\n",
    "import numpy as np\n",
    "\n",
    "# Load the pyplot collection of functions from matplotlib, as plt \n",
    "import matplotlib as plt"
   ]
  },
  {
   "cell_type": "markdown",
   "metadata": {
    "colab_type": "text",
    "id": "koUrawxsJpgq"
   },
   "source": [
    "#### 1.2.  Loading the data\n",
    "Your data comes from the [London Datastore](https://data.london.gov.uk/): a free, open-source data-sharing portal for London-oriented datasets. "
   ]
  },
  {
   "cell_type": "code",
   "execution_count": 372,
   "metadata": {
    "colab": {},
    "colab_type": "code",
    "id": "AiLiD4v3Jpgr"
   },
   "outputs": [],
   "source": [
    "# First, make a variable called url_LondonHousePrices, and assign it the following link, enclosed in quotation-marks as a string:\n",
    "# https://data.london.gov.uk/download/uk-house-price-index/70ac0766-8902-4eb5-aab5-01951aaed773/UK%20House%20price%20index.xls\n",
    "\n",
    "url_LondonHousePrices= \"https://data.london.gov.uk/download/uk-house-price-index/70ac0766-8902-4eb5-aab5-01951aaed773/UK%20House%20price%20index.xls\"\n",
    "\n",
    "# The dataset we're interested in contains the Average prices of the houses, and is actually on a particular sheet of the Excel file. \n",
    "# As a result, we need to specify the sheet name in the read_excel() method.\n",
    "# Put this data into a variable called properties.  \n",
    "properties = pd.read_excel(url_LondonHousePrices, sheet_name='Average price', index_col= None)"
   ]
  },
  {
   "cell_type": "markdown",
   "metadata": {
    "colab_type": "text",
    "id": "POukEJXgJpgu"
   },
   "source": [
    "### 2. Cleaning, transforming, and visualizing\n",
    "This second stage is arguably the most important part of any Data Science project. The first thing to do is take a proper look at the data. Cleaning forms the majority of this stage, and can be done both before or after Transformation.\n",
    "\n",
    "The end goal of data cleaning is to have tidy data. When data is tidy: \n",
    "\n",
    "1. Each variable has a column.\n",
    "2. Each observation forms a row.\n",
    "\n",
    "Keep the end goal in mind as you move through this process, every step will take you closer. \n",
    "\n",
    "\n",
    "\n",
    "***Hint:*** This part of the data science pipeline should test those skills you acquired in: \n",
    "- Intermediate Python for data science, all modules.\n",
    "- pandas Foundations, all modules. \n",
    "- Manipulating DataFrames with pandas, all modules.\n",
    "- Data Types for Data Science, Module Four.\n",
    "- Python Data Science Toolbox - Part One, all modules"
   ]
  },
  {
   "cell_type": "markdown",
   "metadata": {
    "colab_type": "text",
    "id": "Te0Q548tnzZa"
   },
   "source": [
    "**2.1. Exploring your data** \n",
    "\n",
    "Think about your pandas functions for checking out a dataframe. "
   ]
  },
  {
   "cell_type": "markdown",
   "metadata": {
    "colab_type": "text",
    "id": "tE9Sqt9-oAta"
   },
   "source": [
    "**2.2. Cleaning the data**\n",
    "\n",
    "You might find you need to transpose your dataframe, check out what its row indexes are, and reset the index. You  also might find you need to assign the values of the first row to your column headings  . (Hint: recall the .columns feature of DataFrames, as well as the iloc[] method).\n",
    "\n",
    "Don't be afraid to use StackOverflow for help  with this."
   ]
  },
  {
   "cell_type": "code",
   "execution_count": 373,
   "metadata": {
    "colab": {},
    "colab_type": "code",
    "id": "Rxirxw_qoAJa"
   },
   "outputs": [
    {
     "name": "stdout",
     "output_type": "stream",
     "text": [
      "  Unnamed: 0 City of London Barking & Dagenham       Barnet       Bexley  \\\n",
      "0        NaT      E09000001          E09000002    E09000003    E09000004   \n",
      "1 1995-01-01    91448.98487         50460.2266  93284.51832  64958.09036   \n",
      "2 1995-02-01    82202.77314        51085.77983  93190.16963  64787.92069   \n",
      "3 1995-03-01    79120.70256        51268.96956  92247.52435  64367.49344   \n",
      "4 1995-04-01    77101.20804        53133.50526  90762.87492  64277.66881   \n",
      "\n",
      "         Brent      Bromley       Camden      Croydon       Ealing  ...  \\\n",
      "0    E09000005    E09000006    E09000007    E09000008    E09000009  ...   \n",
      "1  71306.56698  81671.47692  120932.8881  69158.16225  79885.89069  ...   \n",
      "2  72022.26197  81657.55944  119508.8622  68951.09542  80897.06551  ...   \n",
      "3  72015.76274  81449.31143  120282.2131  68712.44341  81379.86288  ...   \n",
      "4  72965.63094  81124.41227   120097.899  68610.04641  82188.90498  ...   \n",
      "\n",
      "    NORTH WEST YORKS & THE HUMBER EAST MIDLANDS WEST MIDLANDS EAST OF ENGLAND  \\\n",
      "0    E12000002          E12000003     E12000004     E12000005       E12000006   \n",
      "1  43958.48001        44803.42878   45544.52227   48527.52339      56701.5961   \n",
      "2  43925.42289        44528.80721   46051.57066   49341.29029     56593.59475   \n",
      "3   44434.8681        45200.46775   45383.82395   49442.17973     56171.18278   \n",
      "4   44267.7796        45614.34341   46124.23045   49455.93299     56567.89582   \n",
      "\n",
      "        LONDON   SOUTH EAST   SOUTH WEST Unnamed: 47      England  \n",
      "0    E12000007    E12000008    E12000009         NaN    E92000001  \n",
      "1  74435.76052  64018.87894   54705.1579         NaN  53202.77128  \n",
      "2  72777.93709  63715.02399  54356.14843         NaN   53096.1549  \n",
      "3  73896.84204  64113.60858  53583.07667         NaN   53201.2843  \n",
      "4  74455.28754  64623.22395  54786.01938         NaN   53590.8548  \n",
      "\n",
      "[5 rows x 49 columns]\n"
     ]
    }
   ],
   "source": [
    "print(properties.head())\n"
   ]
  },
  {
   "cell_type": "code",
   "execution_count": 374,
   "metadata": {
    "colab": {},
    "colab_type": "code",
    "id": "cdAu1A3YoH_r"
   },
   "outputs": [
    {
     "name": "stdout",
     "output_type": "stream",
     "text": [
      "                            0                    1                    2    \\\n",
      "Unnamed: 0                  NaT  1995-01-01 00:00:00  1995-02-01 00:00:00   \n",
      "City of London        E09000001          91448.98487          82202.77314   \n",
      "Barking & Dagenham    E09000002           50460.2266          51085.77983   \n",
      "Barnet                E09000003          93284.51832          93190.16963   \n",
      "Bexley                E09000004          64958.09036          64787.92069   \n",
      "Brent                 E09000005          71306.56698          72022.26197   \n",
      "Bromley               E09000006          81671.47692          81657.55944   \n",
      "Camden                E09000007          120932.8881          119508.8622   \n",
      "Croydon               E09000008          69158.16225          68951.09542   \n",
      "Ealing                E09000009          79885.89069          80897.06551   \n",
      "Enfield               E09000010          72514.69096          73155.19746   \n",
      "Greenwich             E09000011          62300.10169          60993.26863   \n",
      "Hackney               E09000012          61296.52637          63187.08332   \n",
      "Hammersmith & Fulham  E09000013          124902.8602           122087.718   \n",
      "Haringey              E09000014          76287.56947          78901.21036   \n",
      "Harrow                E09000015          84769.52599          83396.10525   \n",
      "Havering              E09000016          68000.13774          69393.51294   \n",
      "Hillingdon            E09000017          73834.82964           75031.0696   \n",
      "Hounslow              E09000018          72231.70537          71051.55852   \n",
      "Islington             E09000019          92516.48557          94342.37334   \n",
      "Kensington & Chelsea  E09000020          182694.8326          182345.2463   \n",
      "Kingston upon Thames  E09000021          80875.84843          81230.13524   \n",
      "Lambeth               E09000022          67770.98843          65381.51908   \n",
      "Lewisham              E09000023          60491.26109          60869.27091   \n",
      "Merton                E09000024           82070.6133          79982.74872   \n",
      "Newham                E09000025          53539.31919          53153.88306   \n",
      "Redbridge             E09000026          72189.58437           72141.6261   \n",
      "Richmond upon Thames  E09000027          109326.1245          111103.0394   \n",
      "Southwark             E09000028          67885.20344           64799.0648   \n",
      "Sutton                E09000029          71536.97357          70893.20851   \n",
      "Tower Hamlets         E09000030          59865.18995          62318.53353   \n",
      "Waltham Forest        E09000031          61319.44913          60252.12246   \n",
      "Wandsworth            E09000032          88559.04381          88641.01678   \n",
      "Westminster           E09000033          133025.2772          131468.3096   \n",
      "Unnamed: 34                 NaN                  NaN                  NaN   \n",
      "Inner London          E13000001           78251.9765          75885.70201   \n",
      "Outer London          E13000002          72958.79836          72937.88262   \n",
      "Unnamed: 37                 NaN                  NaN                  NaN   \n",
      "NORTH EAST            E12000001          42076.35411          42571.98949   \n",
      "NORTH WEST            E12000002          43958.48001          43925.42289   \n",
      "YORKS & THE HUMBER    E12000003          44803.42878          44528.80721   \n",
      "EAST MIDLANDS         E12000004          45544.52227          46051.57066   \n",
      "WEST MIDLANDS         E12000005          48527.52339          49341.29029   \n",
      "EAST OF ENGLAND       E12000006           56701.5961          56593.59475   \n",
      "LONDON                E12000007          74435.76052          72777.93709   \n",
      "SOUTH EAST            E12000008          64018.87894          63715.02399   \n",
      "SOUTH WEST            E12000009           54705.1579          54356.14843   \n",
      "Unnamed: 47                 NaN                  NaN                  NaN   \n",
      "England               E92000001          53202.77128           53096.1549   \n",
      "\n",
      "                                      3                    4    \\\n",
      "Unnamed: 0            1995-03-01 00:00:00  1995-04-01 00:00:00   \n",
      "City of London                79120.70256          77101.20804   \n",
      "Barking & Dagenham            51268.96956          53133.50526   \n",
      "Barnet                        92247.52435          90762.87492   \n",
      "Bexley                        64367.49344          64277.66881   \n",
      "Brent                         72015.76274          72965.63094   \n",
      "Bromley                       81449.31143          81124.41227   \n",
      "Camden                        120282.2131           120097.899   \n",
      "Croydon                       68712.44341          68610.04641   \n",
      "Ealing                        81379.86288          82188.90498   \n",
      "Enfield                       72190.44144          71442.92235   \n",
      "Greenwich                     61377.83464           61927.7246   \n",
      "Hackney                       63593.29935          65139.64403   \n",
      "Hammersmith & Fulham          120635.9467          121424.6241   \n",
      "Haringey                      78521.94855          79545.57477   \n",
      "Harrow                        83416.23759          83567.88439   \n",
      "Havering                      69368.02407          69444.26215   \n",
      "Hillingdon                    74188.66949          73911.40591   \n",
      "Hounslow                      72097.99411          71890.28339   \n",
      "Islington                     93465.86407          93344.49305   \n",
      "Kensington & Chelsea          182878.8231          184176.9168   \n",
      "Kingston upon Thames          81111.48848          81672.80476   \n",
      "Lambeth                       66336.51868           66388.7716   \n",
      "Lewisham                      60288.03002          59471.03136   \n",
      "Merton                        80661.68279          79990.54333   \n",
      "Newham                        53458.26393          54479.75395   \n",
      "Redbridge                     72501.35502          72228.60295   \n",
      "Richmond upon Thames          107325.4742               106875   \n",
      "Southwark                     65763.29719          63073.62117   \n",
      "Sutton                        70306.83844           69411.9439   \n",
      "Tower Hamlets                 63938.67686          66233.19383   \n",
      "Waltham Forest                60871.08493          60971.39722   \n",
      "Wandsworth                    87124.81523          87026.00225   \n",
      "Westminster                   132260.3417          133370.2036   \n",
      "Unnamed: 34                           NaN                  NaN   \n",
      "Inner London                  76591.59947          76851.56697   \n",
      "Outer London                  72714.53478          72591.92469   \n",
      "Unnamed: 37                           NaN                  NaN   \n",
      "NORTH EAST                    42369.72984           42095.8436   \n",
      "NORTH WEST                     44434.8681           44267.7796   \n",
      "YORKS & THE HUMBER            45200.46775          45614.34341   \n",
      "EAST MIDLANDS                 45383.82395          46124.23045   \n",
      "WEST MIDLANDS                 49442.17973          49455.93299   \n",
      "EAST OF ENGLAND               56171.18278          56567.89582   \n",
      "LONDON                        73896.84204          74455.28754   \n",
      "SOUTH EAST                    64113.60858          64623.22395   \n",
      "SOUTH WEST                    53583.07667          54786.01938   \n",
      "Unnamed: 47                           NaN                  NaN   \n",
      "England                        53201.2843           53590.8548   \n",
      "\n",
      "                                      5                    6    \\\n",
      "Unnamed: 0            1995-05-01 00:00:00  1995-06-01 00:00:00   \n",
      "City of London                84409.14932          94900.51244   \n",
      "Barking & Dagenham            53042.24852          53700.34831   \n",
      "Barnet                        90258.00033          90107.23471   \n",
      "Bexley                        63997.13588          64252.32335   \n",
      "Brent                         73704.04743          74310.48167   \n",
      "Bromley                       81542.61561          82382.83435   \n",
      "Camden                        119929.2782          121887.4625   \n",
      "Croydon                        68844.9169          69052.51103   \n",
      "Ealing                        82077.05525          81630.66181   \n",
      "Enfield                       70630.77955          71348.31147   \n",
      "Greenwich                     63512.99103          64751.56404   \n",
      "Hackney                       66193.99212          66921.17101   \n",
      "Hammersmith & Fulham           124433.539          126175.1513   \n",
      "Haringey                       79374.0349           79956.3621   \n",
      "Harrow                        83853.65615          84173.24689   \n",
      "Havering                      68534.52248          68464.60664   \n",
      "Hillingdon                    73117.12416          74005.00585   \n",
      "Hounslow                      72877.47219          72331.08116   \n",
      "Islington                     94346.39917          97428.94311   \n",
      "Kensington & Chelsea          191474.1141          197265.7602   \n",
      "Kingston upon Thames          82123.51084          82205.66822   \n",
      "Lambeth                       69035.11076          68881.15764   \n",
      "Lewisham                      58551.38387          58041.43543   \n",
      "Merton                        80873.98643          80704.92667   \n",
      "Newham                        55803.95958          56067.76986   \n",
      "Redbridge                     72366.64122           72279.4325   \n",
      "Richmond upon Thames          107707.6799          112865.0542   \n",
      "Southwark                     64420.49933          64155.81449   \n",
      "Sutton                        69759.21989          70125.24728   \n",
      "Tower Hamlets                 66432.85846          66232.16372   \n",
      "Waltham Forest                61494.16938          61547.79643   \n",
      "Wandsworth                    86518.05945           88114.3351   \n",
      "Westminster                   133911.1117          134562.1941   \n",
      "Unnamed: 34                           NaN                  NaN   \n",
      "Inner London                  79129.19443           79969.1525   \n",
      "Outer London                  72752.99414          73189.39978   \n",
      "Unnamed: 37                           NaN                  NaN   \n",
      "NORTH EAST                    43266.45165          42315.34372   \n",
      "NORTH WEST                    44223.61973          44112.96432   \n",
      "YORKS & THE HUMBER            44830.98563          45392.63981   \n",
      "EAST MIDLANDS                 45878.00396          45679.99539   \n",
      "WEST MIDLANDS                 50369.66188          50100.43023   \n",
      "EAST OF ENGLAND               56479.80183          56288.94557   \n",
      "LONDON                        75432.02786          75606.24501   \n",
      "SOUTH EAST                    64530.36358            65511.008   \n",
      "SOUTH WEST                    54698.83831          54420.15939   \n",
      "Unnamed: 47                           NaN                  NaN   \n",
      "England                       53678.24041          53735.15475   \n",
      "\n",
      "                                      7                    8    \\\n",
      "Unnamed: 0            1995-07-01 00:00:00  1995-08-01 00:00:00   \n",
      "City of London                110128.0423          112329.4376   \n",
      "Barking & Dagenham            52113.12157          52232.19868   \n",
      "Barnet                        91441.24768          92361.31512   \n",
      "Bexley                        63722.70055          64432.60005   \n",
      "Brent                         74127.03788           73547.0411   \n",
      "Bromley                       82898.52264          82054.37156   \n",
      "Camden                        124027.5768          125529.8039   \n",
      "Croydon                       69142.48112          68993.42545   \n",
      "Ealing                         82352.2226          82706.65927   \n",
      "Enfield                       71837.54011          72237.94562   \n",
      "Greenwich                     65486.34112          65076.43195   \n",
      "Hackney                         68390.753          68096.79385   \n",
      "Hammersmith & Fulham          124381.5134          123625.3196   \n",
      "Haringey                      80746.34881          81217.69074   \n",
      "Harrow                        84226.69844          84430.61796   \n",
      "Havering                      68680.83996          69023.36482   \n",
      "Hillingdon                    74671.13263          74967.86534   \n",
      "Hounslow                      73717.78844          74479.94802   \n",
      "Islington                     98976.14077          98951.20791   \n",
      "Kensington & Chelsea          197963.3169          198037.4218   \n",
      "Kingston upon Thames            82525.793          83342.84552   \n",
      "Lambeth                       69608.72242          68840.02827   \n",
      "Lewisham                      58126.37811           58151.3154   \n",
      "Merton                        81055.90335          80781.09186   \n",
      "Newham                        55458.31693          54709.35467   \n",
      "Redbridge                     72880.83974          73275.16891   \n",
      "Richmond upon Thames          114656.6011          112320.4096   \n",
      "Southwark                     67024.74767          65525.94434   \n",
      "Sutton                        70789.57284          69958.41918   \n",
      "Tower Hamlets                 64692.22672          63472.27558   \n",
      "Waltham Forest                61933.52738           61916.4222   \n",
      "Wandsworth                    89830.58934          90560.68078   \n",
      "Westminster                   133450.2162          136581.5082   \n",
      "Unnamed: 34                           NaN                  NaN   \n",
      "Inner London                  80550.47935          80597.64563   \n",
      "Outer London                  73665.90517          73691.12888   \n",
      "Unnamed: 37                           NaN                  NaN   \n",
      "NORTH EAST                    43287.74323          41899.05494   \n",
      "NORTH WEST                    44109.58764          44193.66583   \n",
      "YORKS & THE HUMBER            45534.99864          45111.45939   \n",
      "EAST MIDLANDS                 46037.67312          45922.53585   \n",
      "WEST MIDLANDS                 49860.00809          49598.45969   \n",
      "EAST OF ENGLAND               57242.30186          56732.40547   \n",
      "LONDON                        75984.24079          75529.34488   \n",
      "SOUTH EAST                    65224.88465          64851.60429   \n",
      "SOUTH WEST                    54265.86368          54365.71495   \n",
      "Unnamed: 47                           NaN                  NaN   \n",
      "England                       53900.60633          53600.31975   \n",
      "\n",
      "                                      9    ...                  312  \\\n",
      "Unnamed: 0            1995-09-01 00:00:00  ...  2020-12-01 00:00:00   \n",
      "City of London                104473.1096  ...          801999.0466   \n",
      "Barking & Dagenham            51471.61353  ...          309560.1023   \n",
      "Barnet                        93273.12245  ...          532528.0926   \n",
      "Bexley                        64509.54767  ...          352260.8385   \n",
      "Brent                         73789.54287  ...          495066.6459   \n",
      "Bromley                       81440.43008  ...          453388.6856   \n",
      "Camden                        120596.8511  ...          786159.1736   \n",
      "Croydon                       69393.50023  ...          380132.1469   \n",
      "Ealing                        82011.08271  ...           495499.091   \n",
      "Enfield                       71725.22104  ...          412872.2663   \n",
      "Greenwich                     63996.81525  ...          401012.0953   \n",
      "Hackney                       68752.50284  ...          589271.7224   \n",
      "Hammersmith & Fulham          123094.0484  ...          728846.8663   \n",
      "Haringey                      82142.89052  ...           584144.363   \n",
      "Harrow                        83606.97863  ...          474609.0823   \n",
      "Havering                        68108.186  ...          378206.3802   \n",
      "Hillingdon                    73843.55239  ...          426361.8057   \n",
      "Hounslow                       74426.6609  ...           425582.459   \n",
      "Islington                     99582.63778  ...          661169.9422   \n",
      "Kensington & Chelsea          197047.8333  ...          1350334.637   \n",
      "Kingston upon Thames          85110.96835  ...          497767.9431   \n",
      "Lambeth                       70155.81997  ...          538485.0954   \n",
      "Lewisham                      58742.99034  ...          440484.5339   \n",
      "Merton                        80824.70075  ...          555218.8649   \n",
      "Newham                        54585.50364  ...           387426.982   \n",
      "Redbridge                     73204.02373  ...          440915.5361   \n",
      "Richmond upon Thames          110424.5703  ...          692690.2272   \n",
      "Southwark                     63467.00948  ...          540038.4516   \n",
      "Sutton                        69937.40214  ...          391576.5318   \n",
      "Tower Hamlets                 62177.59435  ...          468389.6716   \n",
      "Waltham Forest                61548.15206  ...          473237.6061   \n",
      "Wandsworth                     91373.6984  ...          607846.3389   \n",
      "Westminster                   135993.0705  ...          916413.8942   \n",
      "Unnamed: 34                           NaN  ...                  NaN   \n",
      "Inner London                     80402.85  ...          593672.3963   \n",
      "Outer London                  73454.44292  ...          443059.0041   \n",
      "Unnamed: 37                           NaN  ...                  NaN   \n",
      "NORTH EAST                    41850.85646  ...          139712.8463   \n",
      "NORTH WEST                    44088.07696  ...          183163.7436   \n",
      "YORKS & THE HUMBER            44837.86023  ...          180627.5702   \n",
      "EAST MIDLANDS                 45771.66321  ...          211156.7286   \n",
      "WEST MIDLANDS                 49319.69715  ...          215421.6458   \n",
      "EAST OF ENGLAND               56259.28635  ...          307339.3853   \n",
      "LONDON                        74940.80872  ...          497928.5995   \n",
      "SOUTH EAST                    64352.47119  ...          340839.4608   \n",
      "SOUTH WEST                    54243.98694  ...          278732.1498   \n",
      "Unnamed: 47                           NaN  ...                  NaN   \n",
      "England                        53309.2331  ...          267194.1781   \n",
      "\n",
      "                                      313                  314  \\\n",
      "Unnamed: 0            2021-01-01 00:00:00  2021-02-01 00:00:00   \n",
      "City of London                754194.0982          725011.1264   \n",
      "Barking & Dagenham            312470.4977          315749.3442   \n",
      "Barnet                        538683.8133          537171.1625   \n",
      "Bexley                        355756.7322          359323.8616   \n",
      "Brent                         514525.2307          516500.5723   \n",
      "Bromley                        456571.197          453632.2303   \n",
      "Camden                        798149.7212          798820.4453   \n",
      "Croydon                       379261.6339          382158.5357   \n",
      "Ealing                        499011.7714          500087.4833   \n",
      "Enfield                       416954.0539          419951.5816   \n",
      "Greenwich                     406713.2209          405056.0858   \n",
      "Hackney                        591590.965          594583.4644   \n",
      "Hammersmith & Fulham          722886.0508          704276.1181   \n",
      "Haringey                      588947.9402          581410.2395   \n",
      "Harrow                        475677.8097           480157.454   \n",
      "Havering                       380761.931          385078.7322   \n",
      "Hillingdon                    426738.5829          427213.5696   \n",
      "Hounslow                      427916.3576          422585.0115   \n",
      "Islington                     672027.3866          677120.9147   \n",
      "Kensington & Chelsea          1337175.555          1257226.819   \n",
      "Kingston upon Thames          500219.3318          500974.8453   \n",
      "Lambeth                       542712.3891          531307.0111   \n",
      "Lewisham                      441848.4308          443625.9603   \n",
      "Merton                        554030.6187           545660.496   \n",
      "Newham                        384152.7481          387638.7552   \n",
      "Redbridge                     448155.1034          449080.5999   \n",
      "Richmond upon Thames          690103.0433          678193.6591   \n",
      "Southwark                     543831.7383          527778.8668   \n",
      "Sutton                        393323.8516          394657.7315   \n",
      "Tower Hamlets                 461773.3349          465938.4942   \n",
      "Waltham Forest                473419.6547          478590.5474   \n",
      "Wandsworth                    603657.7372           596959.905   \n",
      "Westminster                   930292.8761          939560.1102   \n",
      "Unnamed: 34                           NaN                  NaN   \n",
      "Inner London                  594120.6105          589082.6996   \n",
      "Outer London                  446055.7625          446599.6088   \n",
      "Unnamed: 37                           NaN                  NaN   \n",
      "NORTH EAST                    139542.2809          139842.7165   \n",
      "NORTH WEST                    181582.0247          184740.5591   \n",
      "YORKS & THE HUMBER            180277.0375          181496.1478   \n",
      "EAST MIDLANDS                 210428.2222          213238.2903   \n",
      "WEST MIDLANDS                  212759.701          216529.6215   \n",
      "EAST OF ENGLAND               305096.2129          307809.3811   \n",
      "LONDON                        497850.5888          490528.0896   \n",
      "SOUTH EAST                    339178.1221          340653.4121   \n",
      "SOUTH WEST                    276182.9204          278732.2549   \n",
      "Unnamed: 47                           NaN                  NaN   \n",
      "England                       265629.2048          267611.8874   \n",
      "\n",
      "                                      315                  316  \\\n",
      "Unnamed: 0            2021-03-01 00:00:00  2021-04-01 00:00:00   \n",
      "City of London                719703.4989          728496.7198   \n",
      "Barking & Dagenham            312381.5975          313131.2516   \n",
      "Barnet                        537972.6322           530778.403   \n",
      "Bexley                        361782.2198          362053.2197   \n",
      "Brent                         520406.5733          502074.0621   \n",
      "Bromley                       456081.6031          460584.6091   \n",
      "Camden                        807672.9972          815246.6493   \n",
      "Croydon                       387919.6983          391035.3876   \n",
      "Ealing                        507784.4069          509540.4726   \n",
      "Enfield                       422061.8201          420699.1392   \n",
      "Greenwich                     404344.2337           403407.448   \n",
      "Hackney                       589016.4306          575163.0971   \n",
      "Hammersmith & Fulham          706625.2981          729780.6953   \n",
      "Haringey                      576100.2615          559926.7973   \n",
      "Harrow                        483276.2621          488941.2616   \n",
      "Havering                      385550.2956          387190.7152   \n",
      "Hillingdon                    425265.3713          427908.8745   \n",
      "Hounslow                      426399.3568          435617.0537   \n",
      "Islington                     682058.9283          661868.3108   \n",
      "Kensington & Chelsea          1207253.022          1189761.969   \n",
      "Kingston upon Thames          505173.4783          502482.7099   \n",
      "Lambeth                       535148.6618          531280.9554   \n",
      "Lewisham                      447538.8559          444759.0383   \n",
      "Merton                        548741.8925          542715.8331   \n",
      "Newham                        389223.0718           385141.995   \n",
      "Redbridge                     447309.4976          449763.6936   \n",
      "Richmond upon Thames          681998.9558          690474.6611   \n",
      "Southwark                     520337.3209          509004.9473   \n",
      "Sutton                        396110.6274          395429.0934   \n",
      "Tower Hamlets                 456989.6757          454880.8688   \n",
      "Waltham Forest                481702.6638          479491.7656   \n",
      "Wandsworth                    599847.3131          600245.7925   \n",
      "Westminster                   951078.1124          939173.1073   \n",
      "Unnamed: 34                           NaN                  NaN   \n",
      "Inner London                  587970.7403          583282.1642   \n",
      "Outer London                  448720.3491           449279.005   \n",
      "Unnamed: 37                           NaN                  NaN   \n",
      "NORTH EAST                    142545.1216          140297.8401   \n",
      "NORTH WEST                    186978.2619          184809.1223   \n",
      "YORKS & THE HUMBER            183307.8384          179601.8686   \n",
      "EAST MIDLANDS                  214226.128          212602.6669   \n",
      "WEST MIDLANDS                 217698.5985          216554.7127   \n",
      "EAST OF ENGLAND               310512.6613          309454.5703   \n",
      "LONDON                        498203.6789          494401.9154   \n",
      "SOUTH EAST                    344976.3052          343165.0976   \n",
      "SOUTH WEST                    283109.3957          279115.9655   \n",
      "Unnamed: 47                           NaN                  NaN   \n",
      "England                       270656.6657          268092.8404   \n",
      "\n",
      "                                      317                  318  \\\n",
      "Unnamed: 0            2021-05-01 00:00:00  2021-06-01 00:00:00   \n",
      "City of London                720954.3631          729878.6878   \n",
      "Barking & Dagenham            312430.6526          317234.7354   \n",
      "Barnet                        533319.3495          541296.7827   \n",
      "Bexley                        361919.1777          364464.1865   \n",
      "Brent                         506917.3065          514055.8987   \n",
      "Bromley                       464872.5485          470431.4171   \n",
      "Camden                        811080.3625          814571.2461   \n",
      "Croydon                       391236.9134          393198.4071   \n",
      "Ealing                        508368.5016          507915.9556   \n",
      "Enfield                       418235.5793          419803.0944   \n",
      "Greenwich                     401170.5496           408486.914   \n",
      "Hackney                       565534.2821          580763.7037   \n",
      "Hammersmith & Fulham           735758.306          742818.8831   \n",
      "Haringey                      558834.7969          560601.0931   \n",
      "Harrow                        489516.3518          489793.6425   \n",
      "Havering                      388062.7303          389441.4026   \n",
      "Hillingdon                    427822.3621          428092.6552   \n",
      "Hounslow                       427376.339          427002.8187   \n",
      "Islington                     668102.3093          665423.0219   \n",
      "Kensington & Chelsea           1223351.43          1230796.794   \n",
      "Kingston upon Thames          504367.0279           511798.096   \n",
      "Lambeth                       543243.5305          535825.4719   \n",
      "Lewisham                      433139.7752          430257.0783   \n",
      "Merton                        540692.2901          541278.3307   \n",
      "Newham                        380125.6198          382971.0109   \n",
      "Redbridge                     451935.9512          455605.5482   \n",
      "Richmond upon Thames           701319.953          698800.8957   \n",
      "Southwark                     507543.0745           507753.747   \n",
      "Sutton                         395317.852          396832.6977   \n",
      "Tower Hamlets                 438160.3873          441463.0108   \n",
      "Waltham Forest                476898.2854          474203.8201   \n",
      "Wandsworth                    600170.4199          602200.0282   \n",
      "Westminster                   908209.3205           888342.854   \n",
      "Unnamed: 34                           NaN                  NaN   \n",
      "Inner London                  579645.2979          580376.5862   \n",
      "Outer London                  449667.5348          452390.5306   \n",
      "Unnamed: 37                           NaN                  NaN   \n",
      "NORTH EAST                    140115.0365           148797.687   \n",
      "NORTH WEST                    185423.3235          197661.6803   \n",
      "YORKS & THE HUMBER            182339.4077          193209.6025   \n",
      "EAST MIDLANDS                 213819.6823          223976.9936   \n",
      "WEST MIDLANDS                 217328.3043           229297.292   \n",
      "EAST OF ENGLAND               310491.7583          322092.8865   \n",
      "LONDON                        487722.6137          504433.0067   \n",
      "SOUTH EAST                    344759.8103          358976.2837   \n",
      "SOUTH WEST                    278603.3754          295365.2541   \n",
      "Unnamed: 47                           NaN                  NaN   \n",
      "England                       268724.3741          282278.1418   \n",
      "\n",
      "                                      319                  320  \\\n",
      "Unnamed: 0            2021-07-01 00:00:00  2021-08-01 00:00:00   \n",
      "City of London                          -                    -   \n",
      "Barking & Dagenham            319549.9296          322496.3752   \n",
      "Barnet                        536012.6687          544558.8072   \n",
      "Bexley                        366451.6388          373547.2951   \n",
      "Brent                         528684.0547          533696.3904   \n",
      "Bromley                        466447.004          473570.3561   \n",
      "Camden                        906099.2001           921525.014   \n",
      "Croydon                       389730.0859          393245.7812   \n",
      "Ealing                        515141.3288          515422.2833   \n",
      "Enfield                       421158.7954          433986.2088   \n",
      "Greenwich                     398457.9115          407976.0611   \n",
      "Hackney                       594503.9987          643719.5727   \n",
      "Hammersmith & Fulham          827704.2291          860868.1808   \n",
      "Haringey                      610025.4839          637896.4386   \n",
      "Harrow                        483698.6654          486333.8144   \n",
      "Havering                      392434.1134          392816.9311   \n",
      "Hillingdon                    427353.7684           440633.876   \n",
      "Hounslow                       417355.592          441097.6488   \n",
      "Islington                     700197.1027          695773.5672   \n",
      "Kensington & Chelsea          1321923.591          1396618.476   \n",
      "Kingston upon Thames          518251.1589          528748.6121   \n",
      "Lambeth                       508702.4131          507061.9925   \n",
      "Lewisham                       417458.413           431886.712   \n",
      "Merton                        544610.3996          559114.7972   \n",
      "Newham                        366701.6688          379482.6897   \n",
      "Redbridge                     461489.5978          470113.1844   \n",
      "Richmond upon Thames          719159.0459          736113.0276   \n",
      "Southwark                     519188.4685          534447.2837   \n",
      "Sutton                        401044.1434           401378.723   \n",
      "Tower Hamlets                 459966.7264          466570.5264   \n",
      "Waltham Forest                493007.7479          502104.8103   \n",
      "Wandsworth                    602540.2419          614932.2951   \n",
      "Westminster                   922331.0222          1016725.048   \n",
      "Unnamed: 34                           NaN                  NaN   \n",
      "Inner London                  583203.1502          602638.0417   \n",
      "Outer London                  453741.2705          461432.0667   \n",
      "Unnamed: 37                           NaN                  NaN   \n",
      "NORTH EAST                    140359.3964          147240.6501   \n",
      "NORTH WEST                    183579.6782          193412.2798   \n",
      "YORKS & THE HUMBER            181001.6873          184981.5805   \n",
      "EAST MIDLANDS                 213574.8626          220414.7332   \n",
      "WEST MIDLANDS                 219099.9661          224543.8573   \n",
      "EAST OF ENGLAND               311122.1376          322439.0604   \n",
      "LONDON                        499917.0498          522364.6891   \n",
      "SOUTH EAST                     347159.291          360169.2272   \n",
      "SOUTH WEST                    275176.6978          289645.0637   \n",
      "Unnamed: 47                           NaN                  NaN   \n",
      "England                        269084.097          279653.1009   \n",
      "\n",
      "                                      321  \n",
      "Unnamed: 0            2021-09-01 00:00:00  \n",
      "City of London                          -  \n",
      "Barking & Dagenham            329287.2922  \n",
      "Barnet                         533093.293  \n",
      "Bexley                         375156.155  \n",
      "Brent                         542095.3343  \n",
      "Bromley                        483955.024  \n",
      "Camden                        895902.4347  \n",
      "Croydon                       391878.8752  \n",
      "Ealing                        525536.4856  \n",
      "Enfield                       440813.0792  \n",
      "Greenwich                     414809.8387  \n",
      "Hackney                       657278.2784  \n",
      "Hammersmith & Fulham          841494.9545  \n",
      "Haringey                      650508.7965  \n",
      "Harrow                        508344.2174  \n",
      "Havering                      401412.1605  \n",
      "Hillingdon                    446340.1024  \n",
      "Hounslow                      431281.0041  \n",
      "Islington                     700001.0762  \n",
      "Kensington & Chelsea          1386350.167  \n",
      "Kingston upon Thames          545618.1198  \n",
      "Lambeth                       542030.0084  \n",
      "Lewisham                      422043.5631  \n",
      "Merton                        555225.5399  \n",
      "Newham                        365357.1433  \n",
      "Redbridge                      480339.944  \n",
      "Richmond upon Thames          735675.2191  \n",
      "Southwark                     536755.5255  \n",
      "Sutton                         415227.665  \n",
      "Tower Hamlets                 440846.7361  \n",
      "Waltham Forest                505389.1863  \n",
      "Wandsworth                    599124.4127  \n",
      "Westminster                   965766.3554  \n",
      "Unnamed: 34                           NaN  \n",
      "Inner London                  595297.4347  \n",
      "Outer London                  466574.8732  \n",
      "Unnamed: 37                           NaN  \n",
      "NORTH EAST                    152775.8163  \n",
      "NORTH WEST                    203661.3679  \n",
      "YORKS & THE HUMBER            192354.2782  \n",
      "EAST MIDLANDS                 231317.6557  \n",
      "WEST MIDLANDS                 231501.4076  \n",
      "EAST OF ENGLAND               327981.6844  \n",
      "LONDON                        507253.0352  \n",
      "SOUTH EAST                    370886.2724  \n",
      "SOUTH WEST                    301327.0222  \n",
      "Unnamed: 47                           NaN  \n",
      "England                       287895.4003  \n",
      "\n",
      "[49 rows x 322 columns]\n"
     ]
    }
   ],
   "source": [
    "properties=properties.transpose()\n",
    "print(properties)"
   ]
  },
  {
   "cell_type": "code",
   "execution_count": 375,
   "metadata": {
    "colab": {},
    "colab_type": "code",
    "id": "GKkmn1AnoVZS",
    "scrolled": true
   },
   "outputs": [
    {
     "data": {
      "text/html": [
       "<div>\n",
       "<style scoped>\n",
       "    .dataframe tbody tr th:only-of-type {\n",
       "        vertical-align: middle;\n",
       "    }\n",
       "\n",
       "    .dataframe tbody tr th {\n",
       "        vertical-align: top;\n",
       "    }\n",
       "\n",
       "    .dataframe thead th {\n",
       "        text-align: right;\n",
       "    }\n",
       "</style>\n",
       "<table border=\"1\" class=\"dataframe\">\n",
       "  <thead>\n",
       "    <tr style=\"text-align: right;\">\n",
       "      <th></th>\n",
       "      <th>index</th>\n",
       "      <th>0</th>\n",
       "      <th>1</th>\n",
       "      <th>2</th>\n",
       "      <th>3</th>\n",
       "      <th>4</th>\n",
       "      <th>5</th>\n",
       "      <th>6</th>\n",
       "      <th>7</th>\n",
       "      <th>8</th>\n",
       "      <th>...</th>\n",
       "      <th>312</th>\n",
       "      <th>313</th>\n",
       "      <th>314</th>\n",
       "      <th>315</th>\n",
       "      <th>316</th>\n",
       "      <th>317</th>\n",
       "      <th>318</th>\n",
       "      <th>319</th>\n",
       "      <th>320</th>\n",
       "      <th>321</th>\n",
       "    </tr>\n",
       "  </thead>\n",
       "  <tbody>\n",
       "    <tr>\n",
       "      <th>0</th>\n",
       "      <td>Unnamed: 0</td>\n",
       "      <td>NaT</td>\n",
       "      <td>1995-01-01 00:00:00</td>\n",
       "      <td>1995-02-01 00:00:00</td>\n",
       "      <td>1995-03-01 00:00:00</td>\n",
       "      <td>1995-04-01 00:00:00</td>\n",
       "      <td>1995-05-01 00:00:00</td>\n",
       "      <td>1995-06-01 00:00:00</td>\n",
       "      <td>1995-07-01 00:00:00</td>\n",
       "      <td>1995-08-01 00:00:00</td>\n",
       "      <td>...</td>\n",
       "      <td>2020-12-01 00:00:00</td>\n",
       "      <td>2021-01-01 00:00:00</td>\n",
       "      <td>2021-02-01 00:00:00</td>\n",
       "      <td>2021-03-01 00:00:00</td>\n",
       "      <td>2021-04-01 00:00:00</td>\n",
       "      <td>2021-05-01 00:00:00</td>\n",
       "      <td>2021-06-01 00:00:00</td>\n",
       "      <td>2021-07-01 00:00:00</td>\n",
       "      <td>2021-08-01 00:00:00</td>\n",
       "      <td>2021-09-01 00:00:00</td>\n",
       "    </tr>\n",
       "    <tr>\n",
       "      <th>1</th>\n",
       "      <td>City of London</td>\n",
       "      <td>E09000001</td>\n",
       "      <td>91448.98487</td>\n",
       "      <td>82202.77314</td>\n",
       "      <td>79120.70256</td>\n",
       "      <td>77101.20804</td>\n",
       "      <td>84409.14932</td>\n",
       "      <td>94900.51244</td>\n",
       "      <td>110128.0423</td>\n",
       "      <td>112329.4376</td>\n",
       "      <td>...</td>\n",
       "      <td>801999.0466</td>\n",
       "      <td>754194.0982</td>\n",
       "      <td>725011.1264</td>\n",
       "      <td>719703.4989</td>\n",
       "      <td>728496.7198</td>\n",
       "      <td>720954.3631</td>\n",
       "      <td>729878.6878</td>\n",
       "      <td>-</td>\n",
       "      <td>-</td>\n",
       "      <td>-</td>\n",
       "    </tr>\n",
       "    <tr>\n",
       "      <th>2</th>\n",
       "      <td>Barking &amp; Dagenham</td>\n",
       "      <td>E09000002</td>\n",
       "      <td>50460.2266</td>\n",
       "      <td>51085.77983</td>\n",
       "      <td>51268.96956</td>\n",
       "      <td>53133.50526</td>\n",
       "      <td>53042.24852</td>\n",
       "      <td>53700.34831</td>\n",
       "      <td>52113.12157</td>\n",
       "      <td>52232.19868</td>\n",
       "      <td>...</td>\n",
       "      <td>309560.1023</td>\n",
       "      <td>312470.4977</td>\n",
       "      <td>315749.3442</td>\n",
       "      <td>312381.5975</td>\n",
       "      <td>313131.2516</td>\n",
       "      <td>312430.6526</td>\n",
       "      <td>317234.7354</td>\n",
       "      <td>319549.9296</td>\n",
       "      <td>322496.3752</td>\n",
       "      <td>329287.2922</td>\n",
       "    </tr>\n",
       "    <tr>\n",
       "      <th>3</th>\n",
       "      <td>Barnet</td>\n",
       "      <td>E09000003</td>\n",
       "      <td>93284.51832</td>\n",
       "      <td>93190.16963</td>\n",
       "      <td>92247.52435</td>\n",
       "      <td>90762.87492</td>\n",
       "      <td>90258.00033</td>\n",
       "      <td>90107.23471</td>\n",
       "      <td>91441.24768</td>\n",
       "      <td>92361.31512</td>\n",
       "      <td>...</td>\n",
       "      <td>532528.0926</td>\n",
       "      <td>538683.8133</td>\n",
       "      <td>537171.1625</td>\n",
       "      <td>537972.6322</td>\n",
       "      <td>530778.403</td>\n",
       "      <td>533319.3495</td>\n",
       "      <td>541296.7827</td>\n",
       "      <td>536012.6687</td>\n",
       "      <td>544558.8072</td>\n",
       "      <td>533093.293</td>\n",
       "    </tr>\n",
       "    <tr>\n",
       "      <th>4</th>\n",
       "      <td>Bexley</td>\n",
       "      <td>E09000004</td>\n",
       "      <td>64958.09036</td>\n",
       "      <td>64787.92069</td>\n",
       "      <td>64367.49344</td>\n",
       "      <td>64277.66881</td>\n",
       "      <td>63997.13588</td>\n",
       "      <td>64252.32335</td>\n",
       "      <td>63722.70055</td>\n",
       "      <td>64432.60005</td>\n",
       "      <td>...</td>\n",
       "      <td>352260.8385</td>\n",
       "      <td>355756.7322</td>\n",
       "      <td>359323.8616</td>\n",
       "      <td>361782.2198</td>\n",
       "      <td>362053.2197</td>\n",
       "      <td>361919.1777</td>\n",
       "      <td>364464.1865</td>\n",
       "      <td>366451.6388</td>\n",
       "      <td>373547.2951</td>\n",
       "      <td>375156.155</td>\n",
       "    </tr>\n",
       "  </tbody>\n",
       "</table>\n",
       "<p>5 rows × 323 columns</p>\n",
       "</div>"
      ],
      "text/plain": [
       "                index          0                    1                    2  \\\n",
       "0          Unnamed: 0        NaT  1995-01-01 00:00:00  1995-02-01 00:00:00   \n",
       "1      City of London  E09000001          91448.98487          82202.77314   \n",
       "2  Barking & Dagenham  E09000002           50460.2266          51085.77983   \n",
       "3              Barnet  E09000003          93284.51832          93190.16963   \n",
       "4              Bexley  E09000004          64958.09036          64787.92069   \n",
       "\n",
       "                     3                    4                    5  \\\n",
       "0  1995-03-01 00:00:00  1995-04-01 00:00:00  1995-05-01 00:00:00   \n",
       "1          79120.70256          77101.20804          84409.14932   \n",
       "2          51268.96956          53133.50526          53042.24852   \n",
       "3          92247.52435          90762.87492          90258.00033   \n",
       "4          64367.49344          64277.66881          63997.13588   \n",
       "\n",
       "                     6                    7                    8  ...  \\\n",
       "0  1995-06-01 00:00:00  1995-07-01 00:00:00  1995-08-01 00:00:00  ...   \n",
       "1          94900.51244          110128.0423          112329.4376  ...   \n",
       "2          53700.34831          52113.12157          52232.19868  ...   \n",
       "3          90107.23471          91441.24768          92361.31512  ...   \n",
       "4          64252.32335          63722.70055          64432.60005  ...   \n",
       "\n",
       "                   312                  313                  314  \\\n",
       "0  2020-12-01 00:00:00  2021-01-01 00:00:00  2021-02-01 00:00:00   \n",
       "1          801999.0466          754194.0982          725011.1264   \n",
       "2          309560.1023          312470.4977          315749.3442   \n",
       "3          532528.0926          538683.8133          537171.1625   \n",
       "4          352260.8385          355756.7322          359323.8616   \n",
       "\n",
       "                   315                  316                  317  \\\n",
       "0  2021-03-01 00:00:00  2021-04-01 00:00:00  2021-05-01 00:00:00   \n",
       "1          719703.4989          728496.7198          720954.3631   \n",
       "2          312381.5975          313131.2516          312430.6526   \n",
       "3          537972.6322           530778.403          533319.3495   \n",
       "4          361782.2198          362053.2197          361919.1777   \n",
       "\n",
       "                   318                  319                  320  \\\n",
       "0  2021-06-01 00:00:00  2021-07-01 00:00:00  2021-08-01 00:00:00   \n",
       "1          729878.6878                    -                    -   \n",
       "2          317234.7354          319549.9296          322496.3752   \n",
       "3          541296.7827          536012.6687          544558.8072   \n",
       "4          364464.1865          366451.6388          373547.2951   \n",
       "\n",
       "                   321  \n",
       "0  2021-09-01 00:00:00  \n",
       "1                    -  \n",
       "2          329287.2922  \n",
       "3           533093.293  \n",
       "4           375156.155  \n",
       "\n",
       "[5 rows x 323 columns]"
      ]
     },
     "execution_count": 375,
     "metadata": {},
     "output_type": "execute_result"
    }
   ],
   "source": [
    "properties=properties.reset_index()\n",
    "properties.head()"
   ]
  },
  {
   "cell_type": "code",
   "execution_count": 376,
   "metadata": {
    "colab": {},
    "colab_type": "code",
    "id": "S2wM0qLuo2Zt"
   },
   "outputs": [
    {
     "name": "stdout",
     "output_type": "stream",
     "text": [
      "Index(['index',       0,       1,       2,       3,       4,       5,       6,\n",
      "             7,       8,\n",
      "       ...\n",
      "           312,     313,     314,     315,     316,     317,     318,     319,\n",
      "           320,     321],\n",
      "      dtype='object', length=323)\n"
     ]
    }
   ],
   "source": [
    "columns=properties.columns\n",
    "print(columns)"
   ]
  },
  {
   "cell_type": "code",
   "execution_count": 377,
   "metadata": {
    "colab": {},
    "colab_type": "code",
    "id": "ZcR4IHbcpOaq"
   },
   "outputs": [
    {
     "name": "stdout",
     "output_type": "stream",
     "text": [
      "Index([       'Unnamed: 0',                 NaT, 1995-01-01 00:00:00,\n",
      "       1995-02-01 00:00:00, 1995-03-01 00:00:00, 1995-04-01 00:00:00,\n",
      "       1995-05-01 00:00:00, 1995-06-01 00:00:00, 1995-07-01 00:00:00,\n",
      "       1995-08-01 00:00:00,\n",
      "       ...\n",
      "       2020-12-01 00:00:00, 2021-01-01 00:00:00, 2021-02-01 00:00:00,\n",
      "       2021-03-01 00:00:00, 2021-04-01 00:00:00, 2021-05-01 00:00:00,\n",
      "       2021-06-01 00:00:00, 2021-07-01 00:00:00, 2021-08-01 00:00:00,\n",
      "       2021-09-01 00:00:00],\n",
      "      dtype='object', name=0, length=323)\n",
      "***************************\n",
      "0          Unnamed: 0        NaN 1995-01-01 00:00:00 1995-02-01 00:00:00  \\\n",
      "1      City of London  E09000001         91448.98487         82202.77314   \n",
      "2  Barking & Dagenham  E09000002          50460.2266         51085.77983   \n",
      "3              Barnet  E09000003         93284.51832         93190.16963   \n",
      "4              Bexley  E09000004         64958.09036         64787.92069   \n",
      "5               Brent  E09000005         71306.56698         72022.26197   \n",
      "\n",
      "0 1995-03-01 00:00:00 1995-04-01 00:00:00 1995-05-01 00:00:00  \\\n",
      "1         79120.70256         77101.20804         84409.14932   \n",
      "2         51268.96956         53133.50526         53042.24852   \n",
      "3         92247.52435         90762.87492         90258.00033   \n",
      "4         64367.49344         64277.66881         63997.13588   \n",
      "5         72015.76274         72965.63094         73704.04743   \n",
      "\n",
      "0 1995-06-01 00:00:00 1995-07-01 00:00:00 1995-08-01 00:00:00  ...  \\\n",
      "1         94900.51244         110128.0423         112329.4376  ...   \n",
      "2         53700.34831         52113.12157         52232.19868  ...   \n",
      "3         90107.23471         91441.24768         92361.31512  ...   \n",
      "4         64252.32335         63722.70055         64432.60005  ...   \n",
      "5         74310.48167         74127.03788          73547.0411  ...   \n",
      "\n",
      "0 2020-12-01 00:00:00 2021-01-01 00:00:00 2021-02-01 00:00:00  \\\n",
      "1         801999.0466         754194.0982         725011.1264   \n",
      "2         309560.1023         312470.4977         315749.3442   \n",
      "3         532528.0926         538683.8133         537171.1625   \n",
      "4         352260.8385         355756.7322         359323.8616   \n",
      "5         495066.6459         514525.2307         516500.5723   \n",
      "\n",
      "0 2021-03-01 00:00:00 2021-04-01 00:00:00 2021-05-01 00:00:00  \\\n",
      "1         719703.4989         728496.7198         720954.3631   \n",
      "2         312381.5975         313131.2516         312430.6526   \n",
      "3         537972.6322          530778.403         533319.3495   \n",
      "4         361782.2198         362053.2197         361919.1777   \n",
      "5         520406.5733         502074.0621         506917.3065   \n",
      "\n",
      "0 2021-06-01 00:00:00 2021-07-01 00:00:00 2021-08-01 00:00:00  \\\n",
      "1         729878.6878                   -                   -   \n",
      "2         317234.7354         319549.9296         322496.3752   \n",
      "3         541296.7827         536012.6687         544558.8072   \n",
      "4         364464.1865         366451.6388         373547.2951   \n",
      "5         514055.8987         528684.0547         533696.3904   \n",
      "\n",
      "0 2021-09-01 00:00:00  \n",
      "1                   -  \n",
      "2         329287.2922  \n",
      "3          533093.293  \n",
      "4          375156.155  \n",
      "5         542095.3343  \n",
      "\n",
      "[5 rows x 323 columns]\n"
     ]
    }
   ],
   "source": [
    "first_row = properties.iloc[0] # The first row is assigned \n",
    "#print(first_row)\n",
    "properties_trans=properties[1:]# My new DataFrame without the first row\n",
    "properties_trans.columns = first_row\n",
    "print(properties_trans.columns)\n",
    "\n",
    "print(\"***************************\")\n",
    "\n",
    "print(properties_trans.head())\n"
   ]
  },
  {
   "cell_type": "markdown",
   "metadata": {
    "colab_type": "text",
    "id": "o1uLbJAsoIjK"
   },
   "source": [
    "**2.3. Cleaning the data (part 2)**\n",
    "\n",
    "You might we have to **rename** a couple columns. How do you do this? The clue's pretty bold..."
   ]
  },
  {
   "cell_type": "code",
   "execution_count": 378,
   "metadata": {},
   "outputs": [
    {
     "name": "stdout",
     "output_type": "stream",
     "text": [
      "Index([          'borough',                 NaT, 1995-01-01 00:00:00,\n",
      "       1995-02-01 00:00:00, 1995-03-01 00:00:00, 1995-04-01 00:00:00,\n",
      "       1995-05-01 00:00:00, 1995-06-01 00:00:00, 1995-07-01 00:00:00,\n",
      "       1995-08-01 00:00:00,\n",
      "       ...\n",
      "       2020-12-01 00:00:00, 2021-01-01 00:00:00, 2021-02-01 00:00:00,\n",
      "       2021-03-01 00:00:00, 2021-04-01 00:00:00, 2021-05-01 00:00:00,\n",
      "       2021-06-01 00:00:00, 2021-07-01 00:00:00, 2021-08-01 00:00:00,\n",
      "       2021-09-01 00:00:00],\n",
      "      dtype='object', name=0, length=323)\n",
      "********************************\n",
      "0             borough        NaN 1995-01-01 00:00:00 1995-02-01 00:00:00  \\\n",
      "1      City of London  E09000001         91448.98487         82202.77314   \n",
      "2  Barking & Dagenham  E09000002          50460.2266         51085.77983   \n",
      "3              Barnet  E09000003         93284.51832         93190.16963   \n",
      "4              Bexley  E09000004         64958.09036         64787.92069   \n",
      "5               Brent  E09000005         71306.56698         72022.26197   \n",
      "\n",
      "0 1995-03-01 00:00:00 1995-04-01 00:00:00 1995-05-01 00:00:00  \\\n",
      "1         79120.70256         77101.20804         84409.14932   \n",
      "2         51268.96956         53133.50526         53042.24852   \n",
      "3         92247.52435         90762.87492         90258.00033   \n",
      "4         64367.49344         64277.66881         63997.13588   \n",
      "5         72015.76274         72965.63094         73704.04743   \n",
      "\n",
      "0 1995-06-01 00:00:00 1995-07-01 00:00:00 1995-08-01 00:00:00  ...  \\\n",
      "1         94900.51244         110128.0423         112329.4376  ...   \n",
      "2         53700.34831         52113.12157         52232.19868  ...   \n",
      "3         90107.23471         91441.24768         92361.31512  ...   \n",
      "4         64252.32335         63722.70055         64432.60005  ...   \n",
      "5         74310.48167         74127.03788          73547.0411  ...   \n",
      "\n",
      "0 2020-12-01 00:00:00 2021-01-01 00:00:00 2021-02-01 00:00:00  \\\n",
      "1         801999.0466         754194.0982         725011.1264   \n",
      "2         309560.1023         312470.4977         315749.3442   \n",
      "3         532528.0926         538683.8133         537171.1625   \n",
      "4         352260.8385         355756.7322         359323.8616   \n",
      "5         495066.6459         514525.2307         516500.5723   \n",
      "\n",
      "0 2021-03-01 00:00:00 2021-04-01 00:00:00 2021-05-01 00:00:00  \\\n",
      "1         719703.4989         728496.7198         720954.3631   \n",
      "2         312381.5975         313131.2516         312430.6526   \n",
      "3         537972.6322          530778.403         533319.3495   \n",
      "4         361782.2198         362053.2197         361919.1777   \n",
      "5         520406.5733         502074.0621         506917.3065   \n",
      "\n",
      "0 2021-06-01 00:00:00 2021-07-01 00:00:00 2021-08-01 00:00:00  \\\n",
      "1         729878.6878                   -                   -   \n",
      "2         317234.7354         319549.9296         322496.3752   \n",
      "3         541296.7827         536012.6687         544558.8072   \n",
      "4         364464.1865         366451.6388         373547.2951   \n",
      "5         514055.8987         528684.0547         533696.3904   \n",
      "\n",
      "0 2021-09-01 00:00:00  \n",
      "1                   -  \n",
      "2         329287.2922  \n",
      "3          533093.293  \n",
      "4          375156.155  \n",
      "5         542095.3343  \n",
      "\n",
      "[5 rows x 323 columns]\n"
     ]
    },
    {
     "name": "stderr",
     "output_type": "stream",
     "text": [
      "C:\\Users\\Diana\\anaconda3\\lib\\site-packages\\pandas\\core\\frame.py:4441: SettingWithCopyWarning: \n",
      "A value is trying to be set on a copy of a slice from a DataFrame\n",
      "\n",
      "See the caveats in the documentation: https://pandas.pydata.org/pandas-docs/stable/user_guide/indexing.html#returning-a-view-versus-a-copy\n",
      "  return super().rename(\n"
     ]
    }
   ],
   "source": [
    "properties_trans.rename(columns={\"Unnamed: 0\":\"borough\"}, inplace=True)# I remnamed the first column\n",
    "\n",
    "print(properties_trans.columns)\n",
    "print(\"********************************\")\n",
    "\n",
    "print(properties_trans.head())\n"
   ]
  },
  {
   "cell_type": "code",
   "execution_count": 380,
   "metadata": {},
   "outputs": [
    {
     "name": "stdout",
     "output_type": "stream",
     "text": [
      "Index([          'borough',                'id', 1995-01-01 00:00:00,\n",
      "       1995-02-01 00:00:00, 1995-03-01 00:00:00, 1995-04-01 00:00:00,\n",
      "       1995-05-01 00:00:00, 1995-06-01 00:00:00, 1995-07-01 00:00:00,\n",
      "       1995-08-01 00:00:00,\n",
      "       ...\n",
      "       2020-12-01 00:00:00, 2021-01-01 00:00:00, 2021-02-01 00:00:00,\n",
      "       2021-03-01 00:00:00, 2021-04-01 00:00:00, 2021-05-01 00:00:00,\n",
      "       2021-06-01 00:00:00, 2021-07-01 00:00:00, 2021-08-01 00:00:00,\n",
      "       2021-09-01 00:00:00],\n",
      "      dtype='object', name=0, length=323)\n"
     ]
    }
   ],
   "source": [
    "list_columns=properties_trans.columns\n",
    "properties_trans.rename(columns={list_columns[1]:\"id\"}, inplace=True)\n",
    "print(properties_trans.columns)\n"
   ]
  },
  {
   "cell_type": "markdown",
   "metadata": {
    "colab_type": "text",
    "id": "jy8BzXHmoWEw"
   },
   "source": [
    "**2.4.Transforming the data**\n",
    "\n",
    "Remember what Wes McKinney said about tidy data? \n",
    "\n",
    "You might need to **melt** your DataFrame here. "
   ]
  },
  {
   "cell_type": "markdown",
   "metadata": {
    "colab_type": "text",
    "id": "7kIsgAo7o3mf"
   },
   "source": [
    "Remember to make sure your column data types are all correct. Average prices, for example, should be floating point numbers... "
   ]
  },
  {
   "cell_type": "code",
   "execution_count": 381,
   "metadata": {},
   "outputs": [
    {
     "name": "stdout",
     "output_type": "stream",
     "text": [
      "                  borough         id       date        price\n",
      "0          City of London  E09000001 1995-01-01  91448.98487\n",
      "1      Barking & Dagenham  E09000002 1995-01-01   50460.2266\n",
      "2                  Barnet  E09000003 1995-01-01  93284.51832\n",
      "3                  Bexley  E09000004 1995-01-01  64958.09036\n",
      "4                   Brent  E09000005 1995-01-01  71306.56698\n",
      "...                   ...        ...        ...          ...\n",
      "15403              LONDON  E12000007 2021-09-01  507253.0352\n",
      "15404          SOUTH EAST  E12000008 2021-09-01  370886.2724\n",
      "15405          SOUTH WEST  E12000009 2021-09-01  301327.0222\n",
      "15406         Unnamed: 47        NaN 2021-09-01          NaN\n",
      "15407             England  E92000001 2021-09-01  287895.4003\n",
      "\n",
      "[15408 rows x 4 columns]\n"
     ]
    }
   ],
   "source": [
    "properties_London=properties_trans.melt(id_vars=['borough', \"id\"], var_name= \"date\", value_name=\"price\")\n",
    "#(properties_trans[borough].values)\n",
    "print(properties_London)"
   ]
  },
  {
   "cell_type": "code",
   "execution_count": 382,
   "metadata": {},
   "outputs": [
    {
     "name": "stdout",
     "output_type": "stream",
     "text": [
      "<class 'pandas.core.frame.DataFrame'>\n",
      "RangeIndex: 15408 entries, 0 to 15407\n",
      "Data columns (total 4 columns):\n",
      " #   Column   Non-Null Count  Dtype         \n",
      "---  ------   --------------  -----         \n",
      " 0   borough  15408 non-null  object        \n",
      " 1   id       14445 non-null  object        \n",
      " 2   date     15408 non-null  datetime64[ns]\n",
      " 3   price    14445 non-null  object        \n",
      "dtypes: datetime64[ns](1), object(3)\n",
      "memory usage: 481.6+ KB\n"
     ]
    }
   ],
   "source": [
    "properties_London.info()"
   ]
  },
  {
   "cell_type": "code",
   "execution_count": 383,
   "metadata": {},
   "outputs": [],
   "source": [
    "#properties_London['borough'] = properties_London['borough'].astype('str')\n",
    "#properties_London['rent'] = properties_London['rent'].astype('float')\n",
    "properties_London['price'] = pd.to_numeric(properties_London['price'], errors='coerce')"
   ]
  },
  {
   "cell_type": "code",
   "execution_count": 384,
   "metadata": {},
   "outputs": [
    {
     "data": {
      "text/plain": [
       "borough            object\n",
       "id                 object\n",
       "date       datetime64[ns]\n",
       "price             float64\n",
       "dtype: object"
      ]
     },
     "execution_count": 384,
     "metadata": {},
     "output_type": "execute_result"
    }
   ],
   "source": [
    "properties_London.dtypes"
   ]
  },
  {
   "cell_type": "code",
   "execution_count": 385,
   "metadata": {},
   "outputs": [
    {
     "data": {
      "text/plain": [
       "(15408, 4)"
      ]
     },
     "execution_count": 385,
     "metadata": {},
     "output_type": "execute_result"
    }
   ],
   "source": [
    "properties_London.shape"
   ]
  },
  {
   "cell_type": "code",
   "execution_count": 386,
   "metadata": {},
   "outputs": [
    {
     "data": {
      "text/plain": [
       "48"
      ]
     },
     "execution_count": 386,
     "metadata": {},
     "output_type": "execute_result"
    }
   ],
   "source": [
    "\n",
    "frequesncy_table=properties_London[\"borough\"].value_counts()\n",
    "frequesncy_table.count()\n"
   ]
  },
  {
   "cell_type": "markdown",
   "metadata": {
    "colab_type": "text",
    "id": "knLUXHLypOtw"
   },
   "source": [
    "**2.5. Cleaning the data (part 3)**\n",
    "\n",
    "Do we have an equal number of observations in the ID, Average Price, Month, and London Borough columns? Remember that there are only 32 London Boroughs. How many entries do you have in that column? \n",
    "\n",
    "Check out the contents of the London Borough column, and if you find null values, get rid of them however you see fit. "
   ]
  },
  {
   "cell_type": "code",
   "execution_count": 389,
   "metadata": {
    "colab": {},
    "colab_type": "code",
    "id": "BnvTW5a3p0fC"
   },
   "outputs": [
    {
     "name": "stdout",
     "output_type": "stream",
     "text": [
      "0\n",
      "borough                0\n",
      "id                     3\n",
      "1995-01-01 00:00:00    3\n",
      "1995-02-01 00:00:00    3\n",
      "1995-03-01 00:00:00    3\n",
      "                      ..\n",
      "2021-05-01 00:00:00    3\n",
      "2021-06-01 00:00:00    3\n",
      "2021-07-01 00:00:00    3\n",
      "2021-08-01 00:00:00    3\n",
      "2021-09-01 00:00:00    3\n",
      "Length: 323, dtype: int64\n",
      "323\n"
     ]
    },
    {
     "data": {
      "text/plain": [
       "min    0\n",
       "max    3\n",
       "dtype: int64"
      ]
     },
     "execution_count": 389,
     "metadata": {},
     "output_type": "execute_result"
    }
   ],
   "source": [
    "#properties_London[\"borough\"].isna().sum()\n",
    "properties_London.isna().any()\n",
    "num_missing=properties_trans.isna().sum()\n",
    "print(num_missing)\n",
    "print(len(num_missing))\n",
    "num_missing.agg([min,max])"
   ]
  },
  {
   "cell_type": "code",
   "execution_count": 390,
   "metadata": {},
   "outputs": [
    {
     "name": "stdout",
     "output_type": "stream",
     "text": [
      "borough\n",
      "Barking & Dagenham        0\n",
      "Barnet                    0\n",
      "Bexley                    0\n",
      "Brent                     0\n",
      "Bromley                   0\n",
      "Camden                    0\n",
      "City of London            3\n",
      "Croydon                   0\n",
      "EAST MIDLANDS             0\n",
      "EAST OF ENGLAND           0\n",
      "Ealing                    0\n",
      "Enfield                   0\n",
      "England                   0\n",
      "Greenwich                 0\n",
      "Hackney                   0\n",
      "Hammersmith & Fulham      0\n",
      "Haringey                  0\n",
      "Harrow                    0\n",
      "Havering                  0\n",
      "Hillingdon                0\n",
      "Hounslow                  0\n",
      "Inner London              0\n",
      "Islington                 0\n",
      "Kensington & Chelsea      0\n",
      "Kingston upon Thames      0\n",
      "LONDON                    0\n",
      "Lambeth                   0\n",
      "Lewisham                  0\n",
      "Merton                    0\n",
      "NORTH EAST                0\n",
      "NORTH WEST                0\n",
      "Newham                    0\n",
      "Outer London              0\n",
      "Redbridge                 0\n",
      "Richmond upon Thames      0\n",
      "SOUTH EAST                0\n",
      "SOUTH WEST                0\n",
      "Southwark                 0\n",
      "Sutton                    0\n",
      "Tower Hamlets             0\n",
      "Unnamed: 34             321\n",
      "Unnamed: 37             321\n",
      "Unnamed: 47             321\n",
      "WEST MIDLANDS             0\n",
      "Waltham Forest            0\n",
      "Wandsworth                0\n",
      "Westminster               0\n",
      "YORKS & THE HUMBER        0\n",
      "Name: missing, dtype: int64\n"
     ]
    }
   ],
   "source": [
    "# The grouped view of missing data will lead to a decition who to handle the missing values\n",
    "properties_London[\"missing\"]=properties_London[\"price\"].isna()\n",
    "missing_by_borough=properties_London.groupby(\"borough\")[\"missing\"].sum()\n",
    "print(missing_by_borough)"
   ]
  },
  {
   "cell_type": "code",
   "execution_count": 391,
   "metadata": {},
   "outputs": [
    {
     "name": "stdout",
     "output_type": "stream",
     "text": [
      "<class 'pandas.core.frame.DataFrame'>\n",
      "Int64Index: 14442 entries, 0 to 15407\n",
      "Data columns (total 5 columns):\n",
      " #   Column   Non-Null Count  Dtype         \n",
      "---  ------   --------------  -----         \n",
      " 0   borough  14442 non-null  object        \n",
      " 1   id       14442 non-null  object        \n",
      " 2   date     14442 non-null  datetime64[ns]\n",
      " 3   price    14442 non-null  float64       \n",
      " 4   missing  14442 non-null  bool          \n",
      "dtypes: bool(1), datetime64[ns](1), float64(1), object(2)\n",
      "memory usage: 578.2+ KB\n",
      "**********************************************************\n",
      "borough    False\n",
      "id         False\n",
      "date       False\n",
      "price      False\n",
      "missing    False\n",
      "dtype: bool\n"
     ]
    }
   ],
   "source": [
    "# Since all the missing values, eccept 3 are values of unknown boroughs/mistakes, the missing values will be removed.\n",
    "properties_clean=properties_London.dropna()\n",
    "#properties_clean.head()\n",
    "properties_clean.info()\n",
    "print(\"**********************************************************\")\n",
    "print(properties_clean.isna().any())# checking is the missing values were droped."
   ]
  },
  {
   "cell_type": "code",
   "execution_count": 392,
   "metadata": {},
   "outputs": [
    {
     "data": {
      "text/plain": [
       "45"
      ]
     },
     "execution_count": 392,
     "metadata": {},
     "output_type": "execute_result"
    }
   ],
   "source": [
    "frequesncy_tab=properties_clean[\"borough\"].value_counts()\n",
    "frequesncy_tab.count()\n",
    "# There are still 45 boroughs in the data.Duplicates or other categories need to be changed.\n"
   ]
  },
  {
   "cell_type": "code",
   "execution_count": 400,
   "metadata": {},
   "outputs": [
    {
     "name": "stdout",
     "output_type": "stream",
     "text": [
      "32\n",
      "borough        32\n",
      "yes_borough    32\n",
      "dtype: int64\n",
      "*********************************************\n",
      "              borough         id       date        price  missing  yes_borough\n",
      "0      City of London  E09000001 1995-01-01  91448.98487    False        False\n",
      "1  Barking & Dagenham  E09000002 1995-01-01  50460.22660    False         True\n",
      "2              Barnet  E09000003 1995-01-01  93284.51832    False         True\n",
      "3              Bexley  E09000004 1995-01-01  64958.09036    False         True\n",
      "4               Brent  E09000005 1995-01-01  71306.56698    False         True\n",
      "*********************************************\n",
      "              borough         id       date        price  missing  yes_borough\n",
      "1  Barking & Dagenham  E09000002 1995-01-01  50460.22660    False         True\n",
      "2              Barnet  E09000003 1995-01-01  93284.51832    False         True\n",
      "3              Bexley  E09000004 1995-01-01  64958.09036    False         True\n",
      "4               Brent  E09000005 1995-01-01  71306.56698    False         True\n",
      "5             Bromley  E09000006 1995-01-01  81671.47692    False         True\n",
      "32\n"
     ]
    },
    {
     "data": {
      "text/plain": [
       "(10272, 6)"
      ]
     },
     "execution_count": 400,
     "metadata": {},
     "output_type": "execute_result"
    }
   ],
   "source": [
    "\n",
    "list_of_borroughs=[\"Barking & Dagenham\", \"Barnet\", \"Bexley\", \"Brent\", \"Bromley\", \"Camden\", \"Croydon\", \"Ealing\", \"Enfield\", \"Greenwich\",\n",
    "\"Hackney\", \"Hammersmith & Fulham\", \"Haringey\", \"Harrow\", \"Havering\", \"Hillingdon\", \"Hounslow\", \"Islington\", \"Kensington & Chelsea\", \n",
    "\"Kingston upon Thames\", \"Lambeth\", \"Lewisham\", \"Merton\", \"Newham\", \"Redbridge\", \"Richmond upon Thames\", \"Southwark\", \"Sutton\",\"Tower Hamlets\",\n",
    "\"Waltham Forest\", \"Wandsworth\", \"Westminster\"] # a list from https://data.london.gov.uk/dataset/london-borough-profiles\n",
    "print(len(list_of_borroughs))\n",
    "\n",
    "properties_clean=pd.DataFrame(properties_clean)\n",
    "\n",
    "properties_clean[\"yes_borough\"]=properties_clean[\"borough\"].isin(list_of_borroughs)\n",
    "#print(properties_clean[\"yes_borough\"])\n",
    "table_in_boroughs=properties_clean.groupby(\"borough\",as_index=False)[\"yes_borough\"].sum()\n",
    "print(table_in_boroughs[table_in_boroughs[\"yes_borough\"]>0].count()) # The subset columns have the same count: 32 boroughs.\n",
    "\n",
    "print(\"*********************************************\")\n",
    "print(properties_clean.head())\n",
    "print(\"*********************************************\")\n",
    "\n",
    "properties_boroughs=properties_clean[properties_clean[\"yes_borough\"]==True]\n",
    "print(properties_boroughs.head())\n",
    "\n",
    "x=properties_boroughs[\"borough\"].nunique()\n",
    "print(x)\n",
    "\n",
    "properties_boroughs.shape"
   ]
  },
  {
   "cell_type": "markdown",
   "metadata": {
    "colab_type": "text",
    "id": "PGEx6mJsp6dG"
   },
   "source": [
    "**2.6. Visualizing the data**\n",
    "\n",
    "To visualize the data, why not subset on a particular London Borough? Maybe do a line plot of Month against Average Price?"
   ]
  },
  {
   "cell_type": "code",
   "execution_count": 441,
   "metadata": {},
   "outputs": [
    {
     "data": {
      "text/plain": [
       "<AxesSubplot:title={'center':'Barking & Dagenham'}, xlabel='date'>"
      ]
     },
     "execution_count": 441,
     "metadata": {},
     "output_type": "execute_result"
    },
    {
     "data": {
      "image/png": "[encoded data removed]",
      "text/plain": [
       "<Figure size 432x288 with 1 Axes>"
      ]
     },
     "metadata": {
      "needs_background": "light"
     },
     "output_type": "display_data"
    },
    {
     "data": {
      "image/png": "[encoded data removed]",
      "text/plain": [
       "<Figure size 432x288 with 1 Axes>"
      ]
     },
     "metadata": {
      "needs_background": "light"
     },
     "output_type": "display_data"
    }
   ],
   "source": [
    "London_mean=properties_boroughs.groupby(\"date\")[\"price\"].mean()\n",
    "#print(London_mean)\n",
    "London_mean.plot(x=\"date\",y=\"price\", title=\"All boroughs\")\n",
    "#London_mean.plot(x=\"date\",y=\"price\", kind=\"bar\", title=\"All boroughs\")\n",
    "properties_boroughs[properties_boroughs[\"borough\"]==\"Barking & Dagenham\"].plot(x=\"date\",y=\"price\", title=\"Barking & Dagenham\")\n",
    "\n",
    "# sales by boriugh bar plot?\n",
    "\n",
    "\n"
   ]
  },
  {
   "cell_type": "code",
   "execution_count": 452,
   "metadata": {
    "colab": {},
    "colab_type": "code",
    "id": "nAg5pT9cqHAR"
   },
   "outputs": [
    {
     "name": "stderr",
     "output_type": "stream",
     "text": [
      "<ipython-input-452-4a68aaa0e00f>:4: SettingWithCopyWarning: \n",
      "A value is trying to be set on a copy of a slice from a DataFrame.\n",
      "Try using .loc[row_indexer,col_indexer] = value instead\n",
      "\n",
      "See the caveats in the documentation: https://pandas.pydata.org/pandas-docs/stable/user_guide/indexing.html#returning-a-view-versus-a-copy\n",
      "  properties_boroughs[\"year\"]=properties_boroughs[\"date\"].dt.year\n"
     ]
    },
    {
     "data": {
      "text/html": [
       "<div>\n",
       "<style scoped>\n",
       "    .dataframe tbody tr th:only-of-type {\n",
       "        vertical-align: middle;\n",
       "    }\n",
       "\n",
       "    .dataframe tbody tr th {\n",
       "        vertical-align: top;\n",
       "    }\n",
       "\n",
       "    .dataframe thead th {\n",
       "        text-align: right;\n",
       "    }\n",
       "</style>\n",
       "<table border=\"1\" class=\"dataframe\">\n",
       "  <thead>\n",
       "    <tr style=\"text-align: right;\">\n",
       "      <th></th>\n",
       "      <th>borough</th>\n",
       "      <th>id</th>\n",
       "      <th>date</th>\n",
       "      <th>price</th>\n",
       "      <th>missing</th>\n",
       "      <th>yes_borough</th>\n",
       "      <th>year</th>\n",
       "    </tr>\n",
       "  </thead>\n",
       "  <tbody>\n",
       "    <tr>\n",
       "      <th>1</th>\n",
       "      <td>Barking &amp; Dagenham</td>\n",
       "      <td>E09000002</td>\n",
       "      <td>1995-01-01</td>\n",
       "      <td>50460.22660</td>\n",
       "      <td>False</td>\n",
       "      <td>True</td>\n",
       "      <td>1995</td>\n",
       "    </tr>\n",
       "    <tr>\n",
       "      <th>2</th>\n",
       "      <td>Barnet</td>\n",
       "      <td>E09000003</td>\n",
       "      <td>1995-01-01</td>\n",
       "      <td>93284.51832</td>\n",
       "      <td>False</td>\n",
       "      <td>True</td>\n",
       "      <td>1995</td>\n",
       "    </tr>\n",
       "    <tr>\n",
       "      <th>3</th>\n",
       "      <td>Bexley</td>\n",
       "      <td>E09000004</td>\n",
       "      <td>1995-01-01</td>\n",
       "      <td>64958.09036</td>\n",
       "      <td>False</td>\n",
       "      <td>True</td>\n",
       "      <td>1995</td>\n",
       "    </tr>\n",
       "    <tr>\n",
       "      <th>4</th>\n",
       "      <td>Brent</td>\n",
       "      <td>E09000005</td>\n",
       "      <td>1995-01-01</td>\n",
       "      <td>71306.56698</td>\n",
       "      <td>False</td>\n",
       "      <td>True</td>\n",
       "      <td>1995</td>\n",
       "    </tr>\n",
       "    <tr>\n",
       "      <th>5</th>\n",
       "      <td>Bromley</td>\n",
       "      <td>E09000006</td>\n",
       "      <td>1995-01-01</td>\n",
       "      <td>81671.47692</td>\n",
       "      <td>False</td>\n",
       "      <td>True</td>\n",
       "      <td>1995</td>\n",
       "    </tr>\n",
       "  </tbody>\n",
       "</table>\n",
       "</div>"
      ],
      "text/plain": [
       "              borough         id       date        price  missing  \\\n",
       "1  Barking & Dagenham  E09000002 1995-01-01  50460.22660    False   \n",
       "2              Barnet  E09000003 1995-01-01  93284.51832    False   \n",
       "3              Bexley  E09000004 1995-01-01  64958.09036    False   \n",
       "4               Brent  E09000005 1995-01-01  71306.56698    False   \n",
       "5             Bromley  E09000006 1995-01-01  81671.47692    False   \n",
       "\n",
       "   yes_borough  year  \n",
       "1         True  1995  \n",
       "2         True  1995  \n",
       "3         True  1995  \n",
       "4         True  1995  \n",
       "5         True  1995  "
      ]
     },
     "execution_count": 452,
     "metadata": {},
     "output_type": "execute_result"
    }
   ],
   "source": [
    "import datetime as dt\n",
    "\n",
    "# checking:\n",
    "properties_boroughs[\"year\"]=properties_boroughs[\"date\"].dt.year\n",
    "properties_boroughs.head()                 "
   ]
  },
  {
   "cell_type": "markdown",
   "metadata": {
    "colab_type": "text",
    "id": "aWTPqSJeqHnC"
   },
   "source": [
    "To limit the number of data points you have, you might want to extract the year from every month value your *Month* column. \n",
    "\n",
    "To this end, you *could* apply a ***lambda function***. Your logic could work as follows:\n",
    "1. look through the `Month` column\n",
    "2. extract the year from each individual value in that column \n",
    "3. store that corresponding year as separate column. \n",
    "\n",
    "Whether you go ahead with this is up to you. Just so long as you answer our initial brief: which boroughs of London have seen the greatest house price increase, on average, over the past two decades? "
   ]
  },
  {
   "cell_type": "code",
   "execution_count": 660,
   "metadata": {
    "colab": {},
    "colab_type": "code",
    "id": "e0DF92cyqnu8"
   },
   "outputs": [
    {
     "name": "stdout",
     "output_type": "stream",
     "text": [
      "-26\n",
      "9740 days 00:00:00\n"
     ]
    },
    {
     "data": {
      "text/plain": [
       "<AxesSubplot:title={'center':'Prices increase by borough 1995-2021 in amount'}, xlabel='borough'>"
      ]
     },
     "execution_count": 660,
     "metadata": {},
     "output_type": "execute_result"
    },
    {
     "data": {
      "image/png": "[encoded data removed]",
      "text/plain": [
       "<Figure size 792x360 with 1 Axes>"
      ]
     },
     "metadata": {
      "needs_background": "light"
     },
     "output_type": "display_data"
    }
   ],
   "source": [
    "max_year=properties_boroughs[\"year\"].max()\n",
    "min_year=properties_boroughs[\"year\"].min()\n",
    "max_m=properties_boroughs[\"date\"].max()\n",
    "min_m=properties_boroughs[\"date\"].min()\n",
    "\n",
    "print(min_year- max_year,)\n",
    "print(max_m- min_m)\n",
    "\n",
    "\n",
    "# Since the question is about avarage prices and there was a major increase in 20 year, the mean points of the earliest and latest year\n",
    "#were be culculated(rathr than lowest or highest months).\n",
    "\n",
    "\n",
    "latest_price=properties_boroughs[properties_boroughs[\"year\"]==max_year]\n",
    "#print(latest_price)\n",
    "earliest_price= properties_boroughs[properties_boroughs[\"year\"]==min_year]\n",
    "\n",
    "latest_mean_by_borough=latest_price.groupby(\"borough\")[\"price\"].mean()\n",
    "#print(latest_mean_by_borough) \n",
    "\n",
    "earliest_mean_by_borough=earliest_price.groupby(\"borough\")[\"price\"].mean()\n",
    "#print(earliest_mean_by_borough)\n",
    "\n",
    "#To check my results I chose one borough and compared to the value in the table:\n",
    "#x=earliest_price[earliest_price[\"borough\"]==\"Camden\"][\"price\"]\n",
    "#print(x.mean())\n",
    "\n",
    "\n",
    "gap_26years=latest_mean_by_borough-earliest_mean_by_borough\n",
    "#print(gap_26years)\n",
    "#type(gap_26years)\n",
    "sorted_gap_26years=gap_26years.sort_values(ascending=False)\n",
    "#print(sorted_gap_26years)\n",
    "\n",
    "# based on this table the bigest rise was observed in the boroughs:\n",
    "sorted_gap_26years.head()\n",
    "\n",
    "latest_mean_by_borough.sort_values(ascending=False).plot(x=(\"borough\"), kind=\"bar\", title=\"Prices increase by borough 1995-2021 in amount\", figsize=(11,5))\n",
    "earliest_mean_by_borough.sort_values(ascending=False).plot(x=(\"borough\"), kind=\"bar\", title=\"Prices increase by borough 1995-2021 in amount\", figsize=(11,5), color=\"r\")\n"
   ]
  },
  {
   "cell_type": "code",
   "execution_count": null,
   "metadata": {},
   "outputs": [],
   "source": []
  },
  {
   "cell_type": "markdown",
   "metadata": {
    "colab_type": "text",
    "id": "2knuTxAEqoJ4"
   },
   "source": [
    "**3. Modeling**\n",
    "\n",
    "Consider creating a function that will calculate a ratio of house prices, comparing the price of a house in 2018 to the price in 1998.\n",
    "\n",
    "Consider calling this function create_price_ratio.\n",
    "\n",
    "You'd want this function to:\n",
    "1. Take a filter of dfg, specifically where this filter constrains the London_Borough, as an argument. For example, one admissible argument should be: dfg[dfg['London_Borough']=='Camden'].\n",
    "2. Get the Average Price for that Borough, for the years 1998 and 2018.\n",
    "4. Calculate the ratio of the Average Price for 1998 divided by the Average Price for 2018.\n",
    "5. Return that ratio.\n",
    "\n",
    "Once you've written this function, you ultimately want to use it to iterate through all the unique London_Boroughs and work out the ratio capturing the difference of house prices between 1998 and 2018.\n",
    "\n",
    "Bear in mind: you don't have to write a function like this if you don't want to. If you can solve the brief otherwise, then great! \n",
    "\n",
    "***Hint***: This section should test the skills you acquired in:\n",
    "- Python Data Science Toolbox - Part One, all modules"
   ]
  },
  {
   "cell_type": "code",
   "execution_count": 630,
   "metadata": {
    "colab": {},
    "colab_type": "code",
    "id": "cKTyr437UgDa"
   },
   "outputs": [
    {
     "name": "stdout",
     "output_type": "stream",
     "text": [
      "('Camden', 3.358211634121892)\n",
      "[('Hackney', 4.387149599666481), ('Waltham Forest', 4.3677515406050595), ('Newham', 3.9987452337591614), ('Lewisham', 3.9493392649077212), ('Barking & Dagenham', 3.896130929003452)]\n",
      "The five bouroughs that show the greater increase in housing prices are ['Hackney', 'Waltham Forest', 'Newham', 'Lewisham', 'Barking & Dagenham']\n"
     ]
    }
   ],
   "source": [
    "#We can also observe the same by culculating the ratio.\n",
    "\n",
    "def ratio_price(min_y, max_y, borough):\n",
    "        earliest_year= properties_boroughs[properties_boroughs[\"year\"]==min_y]\n",
    "        latest_year= properties_boroughs[properties_boroughs[\"year\"]==max_y]\n",
    "        earliest=earliest_year[earliest_year[\"borough\"]==borough][\"price\"].mean()\n",
    "        latest=latest_year[latest_year[\"borough\"]==borough][\"price\"].mean()\n",
    "        ratio=latest/earliest\n",
    "        return (borough, ratio)\n",
    "\n",
    "        \n",
    "min_l=2000\n",
    "max_l=2020\n",
    "borough_l=\"Camden\"\n",
    "\n",
    "Camden=ratio_price(min_l, max_l, borough_l)\n",
    "print(Camden)\n",
    "\n",
    "London_b_list= list(properties_boroughs[\"borough\"].unique())\n",
    "#print(London_b_list)\n",
    "\n",
    "London_list=[]\n",
    "\n",
    "for borough_name in (London_b_list):\n",
    "    ratios=ratio_price(2000, 2020, borough_name)\n",
    "    #print (ratios)\n",
    "    London_list.append(ratios)\n",
    "    \n",
    "from operator import itemgetter\n",
    "print(sorted(London_list, key=itemgetter(1), reverse=True)[:5])\n",
    "top_five=sorted(London_list, key=itemgetter(1), reverse=True)[:5]\n",
    "five=[]\n",
    "for boro , ratio in top_five:\n",
    "    five.append(boro)\n",
    "\n",
    "print(\"The five bouroughs that show the greater increase in housing prices are \" + str(five))\n",
    "\n",
    "\n",
    "increase=sorted(London_list, key=itemgetter(1), reverse=True)\n",
    "London_list.plot(x=)"
   ]
  },
  {
   "cell_type": "code",
   "execution_count": 656,
   "metadata": {
    "scrolled": true
   },
   "outputs": [
    {
     "data": {
      "text/plain": [
       "<AxesSubplot:title={'center':'Ratios of prices increase by borough 2000-2020'}, xlabel='borough'>"
      ]
     },
     "execution_count": 656,
     "metadata": {},
     "output_type": "execute_result"
    },
    {
     "data": {
      "image/png": "[encoded data removed]",
      "text/plain": [
       "<Figure size 504x288 with 1 Axes>"
      ]
     },
     "metadata": {
      "needs_background": "light"
     },
     "output_type": "display_data"
    }
   ],
   "source": [
    "earliest_year= properties_boroughs[properties_boroughs[\"year\"]==2000]\n",
    "latest_year= properties_boroughs[properties_boroughs[\"year\"]==2020]\n",
    "latest_mean_borough=latest_year.groupby(\"borough\")[\"price\"].mean()\n",
    "earliest_mean_borough=earliest_year.groupby(\"borough\")[\"price\"].mean()\n",
    "ratio_boro=(latest_mean_borough/earliest_mean_borough).sort_values(ascending=False)\n",
    "#print(ratio_boro)\n",
    "ratio_boro.plot(use_index=True, kind=\"bar\", title=\"Ratios of prices increase by borough 2000-2020\", figsize=(7,4), ylim=(2,5))"
   ]
  },
  {
   "cell_type": "markdown",
   "metadata": {
    "colab_type": "text",
    "id": "NzYUI7FxJpgv"
   },
   "source": [
    "### 4. Conclusion\n",
    "What can you conclude? Type out your conclusion below. \n",
    "\n",
    "Look back at your notebook. Think about how you might summarize what you have done, and prepare a quick presentation on it to your mentor at your next meeting. \n",
    "\n",
    "We hope you enjoyed this practical project. It should have consolidated your data hygiene and pandas skills by looking at a real-world problem involving just the kind of dataset you might encounter as a budding data scientist. Congratulations, and looking forward to seeing you at the next step in the course! "
   ]
  },
  {
   "cell_type": "markdown",
   "metadata": {},
   "source": [
    "Conclusion:\n",
    "Analyzing the data on London boroughs'housing prices helped to see the general increase of prices by the absolute sum ( the top five being Kensington & Chelsea, Westminster, Camden, Hammersmith & Fulham, Richmond upon Thames) . We could see that all London boroughs have shown an increase in housing prices, this was also visualized by a line plot. The line plot also showed a decline after 2009, probably connected to recession. There was a recovery and the prices continued to rise.\n",
    "Modeling the increase by ratio showed which boroughs have had the greatest increase in the last 20 years(2000-2020):'Hackney', 'Waltham Forest', 'Newham', 'Lewisham', 'Barking & Dagenham'. The greatest rise showed average pricing in 2020 almost 4.38 times more than in 2000 , in Hackney borough.\n"
   ]
  },
  {
   "cell_type": "code",
   "execution_count": null,
   "metadata": {},
   "outputs": [],
   "source": []
  },
  {
   "cell_type": "code",
   "execution_count": null,
   "metadata": {},
   "outputs": [],
   "source": []
  }
 ],
 "metadata": {
  "colab": {
   "collapsed_sections": [],
   "name": "Springboard Data Science Career Track Unit 4 Challenge - Tier 3 Complete .ipynb",
   "provenance": []
  },
  "kernelspec": {
   "display_name": "Python 3",
   "language": "python",
   "name": "python3"
  },
  "language_info": {
   "codemirror_mode": {
    "name": "ipython",
    "version": 3
   },
   "file_extension": ".py",
   "mimetype": "text/x-python",
   "name": "python",
   "nbconvert_exporter": "python",
   "pygments_lexer": "ipython3",
   "version": "3.8.8"
  }
 },
 "nbformat": 4,
 "nbformat_minor": 1
}
